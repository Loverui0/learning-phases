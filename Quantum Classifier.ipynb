{
 "cells": [
  {
   "cell_type": "code",
   "execution_count": 1,
   "metadata": {},
   "outputs": [
    {
     "name": "stderr",
     "output_type": "stream",
     "text": [
      "/home/alexey/quantumenv/lib/python3.6/site-packages/marshmallow/schema.py:364: ChangedInMarshmallow3Warning: strict=False is not recommended. In marshmallow 3.0, schemas will always be strict. See https://marshmallow.readthedocs.io/en/latest/upgrading.html#schemas-are-always-strict\n",
      "  ChangedInMarshmallow3Warning\n"
     ]
    }
   ],
   "source": [
    "import TensorNetwork\n",
    "import Entangler\n",
    "from qiskit import QuantumRegister, ClassicalRegister, execute, Aer, QuantumCircuit\n",
    "import numpy as np\n",
    "import hamiltonians\n",
    "import TNOptimize\n",
    "from scipy.optimize import minimize\n",
    "from skopt import gp_minimize\n",
    "import matplotlib.pyplot as plt"
   ]
  },
  {
   "cell_type": "code",
   "execution_count": 2,
   "metadata": {},
   "outputs": [],
   "source": [
    "n_qubits = 4\n",
    "q, c = QuantumRegister(n_qubits), ClassicalRegister(n_qubits)\n",
    "ent = Entangler.IsingEntangler()\n",
    "tn_1 = TensorNetwork.Checkerboard(q, c, ent, depth=3)\n",
    "tn_2 = TensorNetwork.Checkerboard(q, c, ent, depth=4)\n",
    "\n",
    "params_1 = np.random.rand(tn_1.n_params)\n",
    "params_2 = np.random.rand(tn_2.n_params)"
   ]
  },
  {
   "cell_type": "markdown",
   "metadata": {},
   "source": [
    "### Prepare data"
   ]
  },
  {
   "cell_type": "code",
   "execution_count": 3,
   "metadata": {},
   "outputs": [
    {
     "name": "stderr",
     "output_type": "stream",
     "text": [
      "/home/alexey/quantumenv/lib/python3.6/site-packages/marshmallow/schema.py:364: ChangedInMarshmallow3Warning: strict=False is not recommended. In marshmallow 3.0, schemas will always be strict. See https://marshmallow.readthedocs.io/en/latest/upgrading.html#schemas-are-always-strict\n",
      "  ChangedInMarshmallow3Warning\n",
      "/home/alexey/quantumenv/lib/python3.6/site-packages/marshmallow/schema.py:364: ChangedInMarshmallow3Warning: strict=False is not recommended. In marshmallow 3.0, schemas will always be strict. See https://marshmallow.readthedocs.io/en/latest/upgrading.html#schemas-are-always-strict\n",
      "  ChangedInMarshmallow3Warning\n",
      "/home/alexey/quantumenv/lib/python3.6/site-packages/marshmallow/schema.py:364: ChangedInMarshmallow3Warning: strict=False is not recommended. In marshmallow 3.0, schemas will always be strict. See https://marshmallow.readthedocs.io/en/latest/upgrading.html#schemas-are-always-strict\n",
      "  ChangedInMarshmallow3Warning\n",
      "/home/alexey/quantumenv/lib/python3.6/site-packages/marshmallow/schema.py:364: ChangedInMarshmallow3Warning: strict=False is not recommended. In marshmallow 3.0, schemas will always be strict. See https://marshmallow.readthedocs.io/en/latest/upgrading.html#schemas-are-always-strict\n",
      "  ChangedInMarshmallow3Warning\n",
      "/home/alexey/quantumenv/lib/python3.6/site-packages/marshmallow/schema.py:364: ChangedInMarshmallow3Warning: strict=False is not recommended. In marshmallow 3.0, schemas will always be strict. See https://marshmallow.readthedocs.io/en/latest/upgrading.html#schemas-are-always-strict\n",
      "  ChangedInMarshmallow3Warning\n",
      "/home/alexey/quantumenv/lib/python3.6/site-packages/marshmallow/schema.py:364: ChangedInMarshmallow3Warning: strict=False is not recommended. In marshmallow 3.0, schemas will always be strict. See https://marshmallow.readthedocs.io/en/latest/upgrading.html#schemas-are-always-strict\n",
      "  ChangedInMarshmallow3Warning\n",
      "/home/alexey/quantumenv/lib/python3.6/site-packages/marshmallow/schema.py:364: ChangedInMarshmallow3Warning: strict=False is not recommended. In marshmallow 3.0, schemas will always be strict. See https://marshmallow.readthedocs.io/en/latest/upgrading.html#schemas-are-always-strict\n",
      "  ChangedInMarshmallow3Warning\n"
     ]
    },
    {
     "name": "stdout",
     "output_type": "stream",
     "text": [
      "0.1\n",
      "0.15\n",
      "0.2\n",
      "0.25\n",
      "0.3\n",
      "halfway there\n",
      "2.0\n",
      "2.125\n",
      "2.25\n",
      "2.375\n",
      "2.5\n",
      "success\n"
     ]
    }
   ],
   "source": [
    "h_left = np.linspace(0.1, 0.3, num=5)\n",
    "h_right = np.linspace(2, 2.5, num=5)\n",
    "\n",
    "\n",
    "sols_left = []\n",
    "sols_right = []\n",
    "\n",
    "J = 1\n",
    "for h in h_left:\n",
    "    ham_dict = hamiltonians.ising_model(n_qubits, J, h)\n",
    "    H = hamiltonians.explicit_hamiltonian(ham_dict) / h\n",
    "    f = TNOptimize.build_objective_function(tn_1, H)\n",
    "    start_vals = np.random.rand(tn_1.n_params) * 0.05\n",
    "    res = minimize(f, start_vals, tol=1e-6, method='L-BFGS-B')\n",
    "    sols_left.append([res.x, h, -1])\n",
    "    print(h)\n",
    "\n",
    "print('halfway there')\n",
    "    \n",
    "for h in h_right:\n",
    "    ham_dict = hamiltonians.ising_model(n_qubits, J, h)\n",
    "    H = hamiltonians.explicit_hamiltonian(ham_dict) / h\n",
    "    f = TNOptimize.build_objective_function(tn_1, H)\n",
    "    start_vals = np.random.rand(tn_1.n_params) * 0.05\n",
    "    res = minimize(f, start_vals, tol=1e-6, method='L-BFGS-B')\n",
    "    sols_left.append([res.x, h, 1])\n",
    "    print(h)\n",
    "    \n",
    "    \n",
    "print('success')"
   ]
  },
  {
   "cell_type": "code",
   "execution_count": 4,
   "metadata": {},
   "outputs": [
    {
     "name": "stdout",
     "output_type": "stream",
     "text": [
      "0.5\n",
      "0.75\n",
      "1.0\n",
      "1.25\n",
      "1.5\n"
     ]
    }
   ],
   "source": [
    "h_test = np.linspace(0.5, 1.5, num=5)\n",
    "\n",
    "test_data = []\n",
    "\n",
    "for h in h_test:\n",
    "    ham_dict = hamiltonians.ising_model(n_qubits, J, h)\n",
    "    H = hamiltonians.explicit_hamiltonian(ham_dict) / h\n",
    "    f = TNOptimize.build_objective_function(tn_1, H)\n",
    "    start_vals = np.random.rand(tn_1.n_params) * 0.05\n",
    "    res = minimize(f, start_vals, tol=1e-6, method='L-BFGS-B')\n",
    "    test_data.append([res.x, h, np.nan])\n",
    "    print(h)"
   ]
  },
  {
   "cell_type": "code",
   "execution_count": 5,
   "metadata": {},
   "outputs": [],
   "source": [
    "train_data = sols_left + sols_right\n",
    "full_data = train_data + test_data"
   ]
  },
  {
   "cell_type": "code",
   "execution_count": 6,
   "metadata": {},
   "outputs": [],
   "source": [
    "sv_backend = Aer.get_backend('statevector_simulator')\n",
    "\n",
    "def prediction(sol_params, classifier_params, tn_1, tn_2, shots=1024):\n",
    "    circ_1 = tn_1.construct_circuit(sol_params)\n",
    "    circ_2 = tn_2.construct_circuit(classifier_params)\n",
    "    measure_circ = QuantumCircuit(tn_1.q, tn_1.c)\n",
    "    for i in range(n_qubits):\n",
    "        measure_circ.measure(tn_1.q[i], tn_1.c[i])\n",
    "    total_circ = circ_1 + circ_2\n",
    "    \n",
    "    job = execute(total_circ, sv_backend)\n",
    "    result = job.result()\n",
    "    \n",
    "    statevec = result.get_statevector(total_circ)\n",
    "#     print(abs(statevec))\n",
    "    \n",
    "    label = (-1 * abs(statevec[0])**2 \n",
    "             + abs(statevec[-1])**2)\n",
    "    \n",
    "#     answer = result.get_counts()\n",
    "#     label = 0\n",
    "#     for key, value in answer.items():\n",
    "#         label += value * key.count('1')\n",
    "#     label = label / n_qubits / shots\n",
    "    return label"
   ]
  },
  {
   "cell_type": "code",
   "execution_count": 7,
   "metadata": {},
   "outputs": [],
   "source": [
    "# sol_params = full_data[1][0]\n",
    "# classifier_params = np.random.rand(tn_2.n_params)\n",
    "\n",
    "# circ_1 = tn_1.construct_circuit(sol_params)\n",
    "# circ_2 = tn_2.construct_circuit(classifier_params)\n",
    "\n",
    "# total_circ = circ_1 + circ_2 + measure_circ\n",
    "\n",
    "# job = execute(total_circ, sv_backend)\n",
    "# result = job.result()\n",
    "\n",
    "# statevec = result.get_statevector(total_circ)\n"
   ]
  },
  {
   "cell_type": "code",
   "execution_count": 8,
   "metadata": {},
   "outputs": [
    {
     "data": {
      "text/plain": [
       "array([-4.87266528e+00,  1.40955301e+00, -2.39057582e-01,  8.83107705e-01,\n",
       "       -3.06439074e-01, -4.84439458e+00, -3.55145571e+00, -6.18834549e-01,\n",
       "       -1.46904981e+00, -3.09127291e-01,  3.27657339e+00, -2.76235558e+00,\n",
       "       -2.90839718e+00, -1.93289269e+00, -4.98555550e-01, -1.25128892e+00,\n",
       "       -2.89868538e+00, -2.31946903e-01, -1.43820452e+00, -4.74619201e-01,\n",
       "       -3.02729405e+00, -1.56316870e+00, -3.14878413e+00, -1.19490799e+00,\n",
       "       -3.14557279e+00,  1.25294039e-03,  4.76228098e+00, -3.16362397e+00,\n",
       "       -2.68023518e-01, -3.18128279e+00])"
      ]
     },
     "execution_count": 8,
     "metadata": {},
     "output_type": "execute_result"
    }
   ],
   "source": [
    "train_data[5][0]"
   ]
  },
  {
   "cell_type": "code",
   "execution_count": 9,
   "metadata": {},
   "outputs": [
    {
     "data": {
      "text/plain": [
       "-0.0031363623922971012"
      ]
     },
     "execution_count": 9,
     "metadata": {},
     "output_type": "execute_result"
    }
   ],
   "source": [
    "prediction(train_data[0][0], np.random.rand(tn_2.n_params), tn_1, tn_2)"
   ]
  },
  {
   "cell_type": "code",
   "execution_count": 10,
   "metadata": {},
   "outputs": [],
   "source": [
    "def loss_fun(train_data, classifier_params, tn_1, tn_2):\n",
    "    loss = 0\n",
    "    for data in train_data:\n",
    "        label_pred = prediction(data[0], classifier_params, tn_1, tn_2)\n",
    "        loss += abs(data[2] - label_pred)\n",
    "    return loss"
   ]
  },
  {
   "cell_type": "code",
   "execution_count": 11,
   "metadata": {},
   "outputs": [
    {
     "data": {
      "text/plain": [
       "8.668941318318797"
      ]
     },
     "execution_count": 11,
     "metadata": {},
     "output_type": "execute_result"
    }
   ],
   "source": [
    "loss_fun(train_data, np.random.rand(tn_2.n_params), tn_1, tn_2)"
   ]
  },
  {
   "cell_type": "code",
   "execution_count": 12,
   "metadata": {},
   "outputs": [],
   "source": [
    "def f(x):\n",
    "    return loss_fun(train_data, x, tn_1, tn_2)"
   ]
  },
  {
   "cell_type": "code",
   "execution_count": 13,
   "metadata": {},
   "outputs": [
    {
     "data": {
      "text/plain": [
       "9.703494644055631"
      ]
     },
     "execution_count": 13,
     "metadata": {},
     "output_type": "execute_result"
    }
   ],
   "source": [
    "x = np.random.rand(tn_2.n_params)\n",
    "f(x)"
   ]
  },
  {
   "cell_type": "code",
   "execution_count": 14,
   "metadata": {},
   "outputs": [
    {
     "data": {
      "text/plain": [
       "'Maximum number of iterations has been exceeded.'"
      ]
     },
     "execution_count": 14,
     "metadata": {},
     "output_type": "execute_result"
    }
   ],
   "source": [
    "res_training = minimize(f, np.random.rand(tn_2.n_params), options={\"maxiter\":50})\n",
    "res_training.message"
   ]
  },
  {
   "cell_type": "code",
   "execution_count": 15,
   "metadata": {},
   "outputs": [],
   "source": [
    "# res = gp_minimize(f, [(0, 2 * np.pi)] * tn_2.n_params, n_calls=100, verbose=False)"
   ]
  },
  {
   "cell_type": "code",
   "execution_count": 16,
   "metadata": {},
   "outputs": [],
   "source": [
    "# plt.scatter(np.arange(100), res.func_vals)"
   ]
  },
  {
   "cell_type": "code",
   "execution_count": 19,
   "metadata": {},
   "outputs": [
    {
     "name": "stdout",
     "output_type": "stream",
     "text": [
      "h: 0.10, Actual: -1.00, Predicted: 0.10\n",
      "h: 0.15, Actual: -1.00, Predicted: -0.83\n",
      "h: 0.20, Actual: -1.00, Predicted: -0.81\n",
      "h: 0.25, Actual: -1.00, Predicted: -0.79\n",
      "h: 0.30, Actual: -1.00, Predicted: 0.14\n",
      "h: 2.00, Actual: 1.00, Predicted: 0.87\n",
      "h: 2.12, Actual: 1.00, Predicted: 0.83\n",
      "h: 2.25, Actual: 1.00, Predicted: 0.84\n",
      "h: 2.38, Actual: 1.00, Predicted: 0.85\n",
      "h: 2.50, Actual: 1.00, Predicted: 0.86\n",
      "h: 0.50, Actual: nan, Predicted: -0.65\n",
      "h: 0.75, Actual: nan, Predicted: 0.31\n",
      "h: 1.00, Actual: nan, Predicted: -0.12\n",
      "h: 1.25, Actual: nan, Predicted: 0.59\n",
      "h: 1.50, Actual: nan, Predicted: 0.70\n"
     ]
    }
   ],
   "source": [
    "for d in full_data:\n",
    "    prd = prediction(d[0], res_training.x, tn_1, tn_2)\n",
    "    print('h: {0:0.2f}, Actual: {1:0.2f}, Predicted: {2:0.2f}'.format(d[1], d[2], prd))"
   ]
  },
  {
   "cell_type": "code",
   "execution_count": 21,
   "metadata": {},
   "outputs": [
    {
     "data": {
      "text/plain": [
       "<matplotlib.legend.Legend at 0x7f198042a940>"
      ]
     },
     "execution_count": 21,
     "metadata": {},
     "output_type": "execute_result"
    },
    {
     "data": {
      "image/png": "[encoded data removed]",
      "text/plain": [
       "<Figure size 432x288 with 1 Axes>"
      ]
     },
     "metadata": {
      "needs_background": "light"
     },
     "output_type": "display_data"
    }
   ],
   "source": [
    "h_data = [d[1] for d in train_data]\n",
    "predicted = [prediction(d[0], res_training.x, tn_1, tn_2) for d in train_data]\n",
    "\n",
    "h_2 = [d[1] for d in test_data]\n",
    "prd_test = [prediction(d[0], res_training.x, tn_1, tn_2) for d in test_data]\n",
    "\n",
    "plt.scatter(h_data, predicted, label='train')\n",
    "plt.scatter(h_2, prd_test, label='test')\n",
    "plt.legend()"
   ]
  },
  {
   "cell_type": "code",
   "execution_count": null,
   "metadata": {},
   "outputs": [],
   "source": []
  },
  {
   "cell_type": "code",
   "execution_count": null,
   "metadata": {},
   "outputs": [],
   "source": []
  },
  {
   "cell_type": "code",
   "execution_count": null,
   "metadata": {},
   "outputs": [],
   "source": []
  },
  {
   "cell_type": "code",
   "execution_count": null,
   "metadata": {},
   "outputs": [],
   "source": []
  }
 ],
 "metadata": {
  "kernelspec": {
   "display_name": "Python3 (quantumenv)",
   "language": "python",
   "name": "quantumenv"
  },
  "language_info": {
   "codemirror_mode": {
    "name": "ipython",
    "version": 3
   },
   "file_extension": ".py",
   "mimetype": "text/x-python",
   "name": "python",
   "nbconvert_exporter": "python",
   "pygments_lexer": "ipython3",
   "version": "3.6.8"
  }
 },
 "nbformat": 4,
 "nbformat_minor": 2
}
