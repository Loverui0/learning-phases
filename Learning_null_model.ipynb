{
 "cells": [
  {
   "cell_type": "markdown",
   "metadata": {},
   "source": [
    "### Null test\n",
    "\n",
    "In this notebook, I am going to try the presented approach on a model which does not have any meaningful structure and see how the classifier can split the points into two classes."
   ]
  },
  {
   "cell_type": "code",
   "execution_count": 1,
   "metadata": {},
   "outputs": [
    {
     "name": "stderr",
     "output_type": "stream",
     "text": [
      "/home/alexey/quantumenv/lib/python3.6/site-packages/marshmallow/schema.py:364: ChangedInMarshmallow3Warning: strict=False is not recommended. In marshmallow 3.0, schemas will always be strict. See https://marshmallow.readthedocs.io/en/latest/upgrading.html#schemas-are-always-strict\n",
      "  ChangedInMarshmallow3Warning\n"
     ]
    }
   ],
   "source": [
    "import numpy as np\n",
    "from qiskit import QuantumRegister, ClassicalRegister, QuantumCircuit\n",
    "from qiskit import Aer, execute\n",
    "import qiskit.extensions.quantum_initializer as qeqi\n",
    "import time\n",
    "from scipy.optimize import minimize, approx_fprime\n",
    "import matplotlib.pyplot as plt\n",
    "import scipy.sparse.linalg as SPLA\n",
    "import csv\n",
    "import pandas as pd\n",
    "from functools import reduce\n",
    "from skopt import gp_minimize\n",
    "from numba import jit, njit\n",
    "from copy import copy, deepcopy\n",
    "\n",
    "\n",
    "import Entangler\n",
    "import TensorNetwork\n",
    "import hamiltonians\n",
    "import TNOptimize\n",
    "import uuid\n",
    "import json\n",
    "import utils\n",
    "\n",
    "plt.rcParams.update({'font.size': 18})\n",
    "plt.rcParams.update({'figure.figsize': [9, 6]})"
   ]
  },
  {
   "cell_type": "code",
   "execution_count": 13,
   "metadata": {},
   "outputs": [],
   "source": [
    "n_qubits = 4\n",
    "\n",
    "n_points_total = 10\n",
    "\n",
    "depth = 3\n",
    "classifier_depth = 3\n",
    "ent = Entangler.IsingEntangler()\n",
    "tol = 1e-6"
   ]
  },
  {
   "cell_type": "code",
   "execution_count": 14,
   "metadata": {},
   "outputs": [
    {
     "name": "stdout",
     "output_type": "stream",
     "text": [
      "0.0\n"
     ]
    }
   ],
   "source": [
    "q = QuantumRegister(n_qubits)\n",
    "c = ClassicalRegister(n_qubits)\n",
    "TN = TensorNetwork.Checkerboard(q, c, ent, depth=depth)\n",
    "\n",
    "\n",
    "H_1 = np.random.randn(2**n_qubits, 2**n_qubits) + 1j * np.random.randn(2**n_qubits, 2**n_qubits)\n",
    "H_1 = 0.5 * (H_1 + H_1.T.conj())\n",
    "print(np.linalg.norm(H_1 - H_1.T.conj()))"
   ]
  },
  {
   "cell_type": "code",
   "execution_count": 15,
   "metadata": {},
   "outputs": [],
   "source": [
    "H_2 = np.random.randn(2**n_qubits, 2**n_qubits) + 1j * np.random.randn(2**n_qubits, 2**n_qubits)\n",
    "H_2 = 0.5 * (H_2 + H_2.T.conj())"
   ]
  },
  {
   "cell_type": "code",
   "execution_count": 16,
   "metadata": {},
   "outputs": [],
   "source": [
    "def H(alpha):\n",
    "    return (1 - alpha) * H_1 + alpha * (H_2)"
   ]
  },
  {
   "cell_type": "code",
   "execution_count": null,
   "metadata": {},
   "outputs": [],
   "source": []
  },
  {
   "cell_type": "code",
   "execution_count": 17,
   "metadata": {},
   "outputs": [],
   "source": [
    "labels = np.ones(n_points_total)\n",
    "vectors = np.zeros((2**n_qubits, n_points_total), dtype=np.complex64)\n",
    "parameters = np.zeros((TN.n_params, n_points_total))\n",
    "vqe_energies = np.zeros(n_points_total)\n",
    "exact_energies = np.zeros(n_points_total)"
   ]
  },
  {
   "cell_type": "code",
   "execution_count": 18,
   "metadata": {},
   "outputs": [
    {
     "name": "stdout",
     "output_type": "stream",
     "text": [
      "Elapsed time: 132.47\n",
      "-6.646990138670466\n",
      "101\n",
      "b'CONVERGENCE: REL_REDUCTION_OF_F_<=_FACTR*EPSMCH'\n",
      "Elapsed time: 22.92\n",
      "-5.8666397587474375\n",
      "19\n",
      "b'CONVERGENCE: REL_REDUCTION_OF_F_<=_FACTR*EPSMCH'\n",
      "Elapsed time: 24.89\n",
      "-5.157484167767345\n",
      "20\n",
      "b'CONVERGENCE: REL_REDUCTION_OF_F_<=_FACTR*EPSMCH'\n",
      "Elapsed time: 47.57\n",
      "-4.711503316329179\n",
      "37\n",
      "b'CONVERGENCE: REL_REDUCTION_OF_F_<=_FACTR*EPSMCH'\n",
      "Elapsed time: 30.04\n",
      "-4.398959681268094\n",
      "25\n",
      "b'CONVERGENCE: REL_REDUCTION_OF_F_<=_FACTR*EPSMCH'\n",
      "Elapsed time: 68.15\n",
      "-4.416400547568065\n",
      "57\n",
      "b'CONVERGENCE: REL_REDUCTION_OF_F_<=_FACTR*EPSMCH'\n",
      "Elapsed time: 81.09\n",
      "-4.989900632712342\n",
      "67\n",
      "b'CONVERGENCE: REL_REDUCTION_OF_F_<=_FACTR*EPSMCH'\n",
      "Elapsed time: 35.94\n",
      "-5.668957842686115\n",
      "31\n",
      "b'CONVERGENCE: REL_REDUCTION_OF_F_<=_FACTR*EPSMCH'\n",
      "Elapsed time: 17.56\n",
      "-6.396070971897297\n",
      "14\n",
      "b'CONVERGENCE: REL_REDUCTION_OF_F_<=_FACTR*EPSMCH'\n",
      "Elapsed time: 19.26\n",
      "-7.15680443110973\n",
      "15\n",
      "b'CONVERGENCE: REL_REDUCTION_OF_F_<=_FACTR*EPSMCH'\n"
     ]
    }
   ],
   "source": [
    "alphas = np.linspace(0, 1, n_points_total)\n",
    "\n",
    "start_vals = np.random.rand(TN.n_params) * 0.2\n",
    "\n",
    "\n",
    "for i, alpha in enumerate(alphas):\n",
    "    H_current = H(alpha)\n",
    "    if alpha>0.5:\n",
    "        labels[i] = 1\n",
    "    else:\n",
    "        labels[i] = -1\n",
    "    f = TNOptimize.build_objective_function(TN, explicit_H=H_current)\n",
    "\n",
    "    n_iters = 0\n",
    "    start_time = time.time()\n",
    "    res = minimize(f, start_vals, options={'maxiter': 300}, callback=None, \n",
    "                   tol=tol, method=\"L-BFGS-B\")\n",
    "    time_spent = time.time() - start_time\n",
    "    print('Elapsed time: {0:5.2f}'.format(time_spent))\n",
    "    \n",
    "    circ = TN.construct_circuit(res.x)\n",
    "    state = utils.get_state(circ)\n",
    "    print(res.fun)\n",
    "    print(res.nit)\n",
    "    print(res.message)\n",
    "    \n",
    "    parameters[:, i] = res.x\n",
    "    vectors[:, i] = state\n",
    "    vqe_energies[i] = res.fun\n",
    "    \n",
    "    s, v = np.linalg.eigh(H_current)\n",
    "    \n",
    "    exact_energies[i] = s[0]\n",
    "    \n",
    "    # Warm start\n",
    "    start_vals = res.x"
   ]
  },
  {
   "cell_type": "code",
   "execution_count": 60,
   "metadata": {},
   "outputs": [
    {
     "name": "stdout",
     "output_type": "stream",
     "text": [
      "[0. 0. 0. 0. 0. 1. 1. 1. 1. 1.]\n"
     ]
    }
   ],
   "source": [
    "labels = (labels + 1)/2\n",
    "print(labels)"
   ]
  },
  {
   "cell_type": "code",
   "execution_count": 61,
   "metadata": {},
   "outputs": [
    {
     "data": {
      "text/plain": [
       "[<matplotlib.lines.Line2D at 0x7f1414d47b38>]"
      ]
     },
     "execution_count": 61,
     "metadata": {},
     "output_type": "execute_result"
    },
    {
     "data": {
      "image/png": "[encoded data removed]",
      "text/plain": [
       "<Figure size 432x288 with 1 Axes>"
      ]
     },
     "metadata": {
      "needs_background": "light"
     },
     "output_type": "display_data"
    }
   ],
   "source": [
    "plt.plot(alphas, vqe_energies, 'r')\n",
    "plt.plot(alphas, exact_energies, 'b')"
   ]
  },
  {
   "cell_type": "code",
   "execution_count": null,
   "metadata": {},
   "outputs": [],
   "source": []
  },
  {
   "cell_type": "code",
   "execution_count": 62,
   "metadata": {},
   "outputs": [],
   "source": [
    "def count_ones(x):\n",
    "    count = 0\n",
    "    x_c = copy(x)\n",
    "    while x_c != 0:\n",
    "        x_c = x_c & (x_c-1)\n",
    "        count += 1\n",
    "    return count\n",
    "\n",
    "\n",
    "unitary_backend = Aer.get_backend('unitary_simulator')\n",
    "\n",
    "def unitary_prediction(state, U):\n",
    "    \"\"\"Returns the probability that the state is in class II by\n",
    "    transforming the circuit into a unitary map\"\"\"\n",
    "#     if U_supply is None:\n",
    "#         result = execute(NN_circ, unitary_b).result()\n",
    "#         U = result.get_unitary(NN_circ)\n",
    "#     else:\n",
    "#         U = U_supply\n",
    "    res_state = U @ state\n",
    "    \n",
    "    label = [0, 0]\n",
    "    \n",
    "    for i in range(len(res_state)):\n",
    "        qty_ones = count_ones(i)\n",
    "        if qty_ones > n_qubits // 2:\n",
    "            label[1] += abs(res_state[i])**2\n",
    "        elif qty_ones < n_qubits // 2:\n",
    "            label[0] += abs(res_state[i])**2 / 2 \n",
    "\n",
    "    return label[1] / (label[0] + label[1])\n",
    "\n",
    "\n",
    "def build_loss_fun(df, indices, TN_classifier):\n",
    "    \"\"\"construct the loss function for a batch\n",
    "    Works somewhat differently from that in XXZ_model.ipynb\n",
    "    Here colums are data points np.vstack((vectors, labels))\n",
    "    df: DataFrame\n",
    "    indices: column numbers of the points in current batch\n",
    "    TN_classifier: quantum classifier\"\"\"\n",
    "    \n",
    "\n",
    "    def f(x):\n",
    "        circ = TN_classifier.construct_circuit(x)\n",
    "        result = execute(circ, unitary_backend).result()\n",
    "        U = result.get_unitary(circ)\n",
    "        logloss = 0\n",
    "        for i in indices:\n",
    "            state = np.array(df.iloc[:-1,i])\n",
    "            y = df.iloc[-1, i].real\n",
    "            p = unitary_prediction(state, U)\n",
    "            logloss += -(y * np.log(p) + (1 - y) * np.log(1 - p))\n",
    "            \n",
    "        return logloss / batch_size\n",
    "    return f"
   ]
  },
  {
   "cell_type": "code",
   "execution_count": null,
   "metadata": {},
   "outputs": [],
   "source": []
  },
  {
   "cell_type": "code",
   "execution_count": 63,
   "metadata": {},
   "outputs": [],
   "source": [
    "df = pd.DataFrame(data=np.vstack((vectors, labels)))"
   ]
  },
  {
   "cell_type": "code",
   "execution_count": 64,
   "metadata": {},
   "outputs": [
    {
     "data": {
      "text/plain": [
       "array(1.+0.j)"
      ]
     },
     "execution_count": 64,
     "metadata": {},
     "output_type": "execute_result"
    }
   ],
   "source": [
    "np.array(df.iloc[-1,5])"
   ]
  },
  {
   "cell_type": "code",
   "execution_count": null,
   "metadata": {},
   "outputs": [],
   "source": []
  },
  {
   "cell_type": "code",
   "execution_count": null,
   "metadata": {},
   "outputs": [],
   "source": []
  },
  {
   "cell_type": "code",
   "execution_count": 65,
   "metadata": {},
   "outputs": [
    {
     "name": "stdout",
     "output_type": "stream",
     "text": [
      "[3 8 4 9 1 6 0 2]\n",
      "[7 5]\n"
     ]
    }
   ],
   "source": [
    "permutation = np.random.permutation(n_points_total)\n",
    "train_size = int(0.8*n_points_total)\n",
    "train_indices = permutation[:train_size]\n",
    "test_indices = permutation[train_size:]\n",
    "print(train_indices)\n",
    "print(test_indices)"
   ]
  },
  {
   "cell_type": "code",
   "execution_count": 66,
   "metadata": {},
   "outputs": [
    {
     "name": "stdout",
     "output_type": "stream",
     "text": [
      "Epoch 0 batch 0\n",
      "loss: 1.0502197334666632\n",
      "Epoch 1 batch 0\n",
      "loss: 1.0342921992885383\n",
      "Epoch 2 batch 0\n",
      "loss: 0.9485049577507972\n",
      "Epoch 3 batch 0\n",
      "loss: 0.8721872835064286\n",
      "Epoch 4 batch 0\n",
      "loss: 0.8049398849245636\n",
      "Epoch 5 batch 0\n",
      "loss: 0.7484950179222654\n",
      "Epoch 6 batch 0\n",
      "loss: 0.6915316244514084\n",
      "Epoch 7 batch 0\n",
      "loss: 0.6389004764449863\n",
      "Epoch 8 batch 0\n",
      "loss: 0.5932078055557911\n",
      "Epoch 9 batch 0\n",
      "loss: 0.5495644165108047\n",
      "Epoch 10 batch 0\n",
      "loss: 0.5154195400057042\n",
      "Epoch 11 batch 0\n",
      "loss: 0.48277870496147685\n",
      "Epoch 12 batch 0\n",
      "loss: 0.4638647468201695\n",
      "Epoch 13 batch 0\n",
      "loss: 0.4452318168304705\n",
      "Epoch 14 batch 0\n",
      "loss: 0.4297642932768995\n",
      "Epoch 20 batch 0\n",
      "loss: 0.3806893126580607\n",
      "Epoch 40 batch 0\n",
      "loss: 0.27060367569426946\n",
      "Epoch 60 batch 0\n",
      "loss: 0.20416275752567806\n",
      "Epoch 80 batch 0\n",
      "loss: 0.16435590131551941\n"
     ]
    }
   ],
   "source": [
    "n_epochs = 100\n",
    "batch_size = 8\n",
    "\n",
    "TN_classifier = TensorNetwork.Checkerboard(q, c, ent, depth=classifier_depth)\n",
    "classifier_vals = np.random.randn(TN_classifier.n_params) * 0.1\n",
    "x = classifier_vals\n",
    "\n",
    "lr_base = 5\n",
    "\n",
    "decay = 1e-3\n",
    "factor = 1 - decay\n",
    "\n",
    "eps_base = 5e-2\n",
    "\n",
    "v = np.zeros(TN_classifier.n_params) #momentum\n",
    "\n",
    "for epoch in range(n_epochs):\n",
    "    perm_train = np.random.permutation(train_size)\n",
    "    current_train_indices = train_indices[perm_train]\n",
    "#     print(current_train_indices)\n",
    "    for batch_num in range(train_size // batch_size):\n",
    "        indices = current_train_indices[batch_num * batch_size: (batch_num + 1) * batch_size]\n",
    "#         print(indices)\n",
    "        f = build_loss_fun(df, indices, TN_classifier)\n",
    "        \n",
    "        eps = eps_base / (1 + batch_num * (epoch + 1))**0.5\n",
    "        lr = lr_base / (1 + batch_num * (epoch + 1))**0.5\n",
    "        \n",
    "        #grad = approx_fprime(x, f, eps)\n",
    "        dx = np.random.randn(np.shape(x)[0]) * eps\n",
    "        f_plus = f(x + dx)\n",
    "        f_minus = f(x - dx)\n",
    "        \n",
    "        grad = (f_plus - f_minus) / 2 / np.linalg.norm(dx)\n",
    "                                \n",
    "        v = 0.9 * v - grad * lr * dx\n",
    "        x = x + v        \n",
    "        \n",
    "        loss = (f_plus + f_minus) / 2\n",
    "        if (epoch % 20 == 0 or epoch < 15):\n",
    "            print('Epoch {0:d} batch {1:d}'.format(epoch, batch_num))\n",
    "            print('loss:', loss)                "
   ]
  },
  {
   "cell_type": "code",
   "execution_count": 68,
   "metadata": {},
   "outputs": [],
   "source": [
    "NN_circ = TN_classifier.construct_circuit(x)\n",
    "result = execute(NN_circ, unitary_backend).result()\n",
    "U = result.get_unitary(NN_circ)\n",
    "\n",
    "predicted_labels = np.zeros(n_points_total)\n",
    "\n",
    "for i in range(n_points_total):\n",
    "    state = np.array(df.iloc[:-1,i])\n",
    "    p = unitary_prediction(state, U)\n",
    "    predicted_labels[i] = p  \n"
   ]
  },
  {
   "cell_type": "code",
   "execution_count": 69,
   "metadata": {},
   "outputs": [
    {
     "name": "stdout",
     "output_type": "stream",
     "text": [
      "[0.13046568 0.09909414 0.07987955 0.20507543 0.31584031 0.78521716\n",
      " 0.88519622 0.89931505 0.90381511 0.90504671]\n"
     ]
    }
   ],
   "source": [
    "print(predicted_labels)"
   ]
  },
  {
   "cell_type": "code",
   "execution_count": 70,
   "metadata": {},
   "outputs": [
    {
     "data": {
      "text/plain": [
       "<matplotlib.collections.PathCollection at 0x7f1414abb6d8>"
      ]
     },
     "execution_count": 70,
     "metadata": {},
     "output_type": "execute_result"
    },
    {
     "data": {
      "image/png": "[encoded data removed]",
      "text/plain": [
       "<Figure size 432x288 with 1 Axes>"
      ]
     },
     "metadata": {
      "needs_background": "light"
     },
     "output_type": "display_data"
    }
   ],
   "source": [
    "plt.scatter(alphas, predicted_labels)"
   ]
  },
  {
   "cell_type": "code",
   "execution_count": 72,
   "metadata": {},
   "outputs": [
    {
     "data": {
      "text/plain": [
       "array([7, 5])"
      ]
     },
     "execution_count": 72,
     "metadata": {},
     "output_type": "execute_result"
    }
   ],
   "source": [
    "test_indices"
   ]
  },
  {
   "cell_type": "code",
   "execution_count": null,
   "metadata": {},
   "outputs": [],
   "source": []
  }
 ],
 "metadata": {
  "kernelspec": {
   "display_name": "Python3 (quantumenv)",
   "language": "python",
   "name": "quantumenv"
  },
  "language_info": {
   "codemirror_mode": {
    "name": "ipython",
    "version": 3
   },
   "file_extension": ".py",
   "mimetype": "text/x-python",
   "name": "python",
   "nbconvert_exporter": "python",
   "pygments_lexer": "ipython3",
   "version": "3.6.9"
  }
 },
 "nbformat": 4,
 "nbformat_minor": 2
}
