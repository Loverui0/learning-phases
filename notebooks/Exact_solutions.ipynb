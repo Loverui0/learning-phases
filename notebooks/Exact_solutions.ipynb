{
 "cells": [
  {
   "cell_type": "markdown",
   "metadata": {},
   "source": [
    "## Properties of the exact solutions of TFIM and Heisenberg XXZ models"
   ]
  },
  {
   "cell_type": "markdown",
   "metadata": {},
   "source": [
    "During the review process, one of the referees asked if the classifier we use can be replaced by simply measuring the magnetization of spins along some axis. While this is true for the Ising model, I doubt that this is the case for TFIM. In this notebook, I want to settle that."
   ]
  },
  {
   "cell_type": "code",
   "execution_count": 90,
   "metadata": {},
   "outputs": [],
   "source": [
    "import numpy as np\n",
    "from qiskit import QuantumRegister, ClassicalRegister\n",
    "import time\n",
    "from scipy.optimize import minimize\n",
    "import matplotlib.pyplot as plt\n",
    "from functools import reduce\n",
    "from itertools import cycle\n",
    "from collections import deque\n",
    "import scipy.sparse.linalg as SPLA\n",
    "from scipy.sparse import csr_matrix\n",
    "\n",
    "\n",
    "import sys\n",
    "sys.path.append(\"..\")\n",
    "\n",
    "import Entangler\n",
    "import TensorNetwork\n",
    "import hamiltonians\n",
    "import TNOptimize\n",
    "import uuid\n",
    "import json\n",
    "import utils\n",
    "\n",
    "plt.rcParams.update({'font.size': 18})\n",
    "plt.rcParams.update({'figure.figsize': [9, 6]})"
   ]
  },
  {
   "cell_type": "code",
   "execution_count": 92,
   "metadata": {},
   "outputs": [],
   "source": [
    "X = np.array([[0, 1], [1, 0]])\n",
    "Z = np.diag([1, -1])\n",
    "Y = np.array([[0, -1j], [1j, 0]])\n",
    "I = np.eye(2)"
   ]
  },
  {
   "cell_type": "code",
   "execution_count": 114,
   "metadata": {},
   "outputs": [],
   "source": [
    "n_qubits = 10\n",
    "\n",
    "mag_ops = []\n",
    "local_pauli = Z\n",
    "for i in range(n_qubits):\n",
    "    mag_list = [local_pauli if j==i else I for j in range(n_qubits)]\n",
    "    mag_ops.append(reduce(np.kron, mag_list))\n",
    "#     print(X_mag_list)    \n",
    "\n",
    "total_magnetization = reduce(np.add, mag_ops)"
   ]
  },
  {
   "cell_type": "code",
   "execution_count": 115,
   "metadata": {},
   "outputs": [],
   "source": [
    "hs = np.linspace(-2.5, 2.5, num=41)\n",
    "magnetizations = np.zeros(np.shape(hs))"
   ]
  },
  {
   "cell_type": "markdown",
   "metadata": {},
   "source": [
    "### TFIM"
   ]
  },
  {
   "cell_type": "code",
   "execution_count": 99,
   "metadata": {},
   "outputs": [
    {
     "name": "stdout",
     "output_type": "stream",
     "text": [
      "9.586962492349846\n",
      "9.540583035533608\n",
      "9.485744964406315\n",
      "9.420180022981995\n",
      "9.340756568175944\n",
      "9.243014935073342\n",
      "9.120350819914343\n",
      "8.9624865111271\n",
      "8.752422808593868\n",
      "8.460119442592813\n",
      "8.030199835505778\n",
      "7.368843871786426\n",
      "6.392453221499649\n",
      "5.230267908677424\n",
      "4.181656804601748\n",
      "3.3266837813257584\n",
      "2.5896956823440287\n",
      "1.9100878753529076\n",
      "1.2600090974586755\n",
      "0.6262279281593426\n",
      "1.8753902646569305e-15\n",
      "-0.626227928159343\n",
      "-1.2600090974586744\n",
      "-1.9100878753529158\n",
      "-2.5896956823440203\n",
      "-3.3266837813257615\n",
      "-4.18165680460174\n",
      "-5.230267908677429\n",
      "-6.392453221499663\n",
      "-7.368843871786415\n",
      "-8.030199835505769\n",
      "-8.460119442592775\n",
      "-8.752422808593874\n",
      "-8.962486511127079\n",
      "-9.12035081991434\n",
      "-9.243014935073356\n",
      "-9.340756568175966\n",
      "-9.420180022981993\n",
      "-9.48574496440631\n",
      "-9.540583035533583\n",
      "-9.58696249234984\n"
     ]
    }
   ],
   "source": [
    "for i, h in enumerate(hs):\n",
    "    model = hamiltonians.ising_model(n_qubits, 1, h)\n",
    "    H = hamiltonians.explicit_hamiltonian(model)\n",
    "    H = csr_matrix(H)\n",
    "    e, v = SPLA.eigsh(H, k=1, which=\"SA\")\n",
    "#     gs = hamiltonians.exact_gs(model)\n",
    "    mag = v.conj().T @ total_magnetization @ v\n",
    "    print(mag[0, 0].real)\n",
    "    magnetizations[i] = mag[0, 0].real"
   ]
  },
  {
   "cell_type": "code",
   "execution_count": 103,
   "metadata": {},
   "outputs": [
    {
     "data": {
      "image/png": "[encoded data removed]",
      "text/plain": [
       "<Figure size 648x432 with 1 Axes>"
      ]
     },
     "metadata": {
      "needs_background": "light"
     },
     "output_type": "display_data"
    }
   ],
   "source": [
    "fig, ax = plt.subplots()\n",
    "plt.plot(hs, magnetizations)\n",
    "plt.xlabel(\"h\")\n",
    "plt.ylabel(\"Total magnetization $\\sum \\\\langle \\sigma_x^{(i)} \\\\rangle$\")\n",
    "fig.savefig('ising_x_magnetization.eps', format='eps', bbox_inches = 'tight')"
   ]
  },
  {
   "cell_type": "markdown",
   "metadata": {},
   "source": [
    "### XXZ model"
   ]
  },
  {
   "cell_type": "code",
   "execution_count": 116,
   "metadata": {},
   "outputs": [
    {
     "name": "stdout",
     "output_type": "stream",
     "text": [
      "4.1789736834861415\n",
      "7.060331664447724\n",
      "3.038889728822573\n",
      "6.867687750933709\n",
      "-5.752878671546759\n",
      "2.735674361384718\n",
      "5.908284044097909\n",
      "8.082558324641804\n",
      "-6.711482452901612\n",
      "-1.2642238026155963\n",
      "-9.877396116852822\n",
      "-0.7501519098950231\n",
      "0.20236326699209184\n",
      "-1.6637890133695226e-26\n",
      "5.360650414164035e-27\n",
      "-1.320197392998277e-28\n",
      "6.762647113682802e-28\n",
      "-2.660711565198349e-28\n",
      "2.340620059426337e-27\n",
      "1.6901570225281408e-30\n",
      "-4.2142559117825726e-29\n",
      "-7.66791637093971e-29\n",
      "-2.2098961703320025e-31\n",
      "4.303263478915884e-31\n",
      "-4.7818527741043e-30\n",
      "2.94838670258428e-32\n",
      "-7.544009347619898e-29\n",
      "3.976817700880493e-29\n",
      "-2.7996995504538707e-31\n",
      "-3.778724094373638e-31\n",
      "5.871034700631443e-32\n",
      "-2.3758630500824276e-29\n",
      "7.816022243155852e-32\n",
      "-1.662966110361139e-29\n",
      "-4.446888199132426e-31\n",
      "-3.006754037890723e-31\n",
      "3.2950100512079834e-30\n",
      "-1.6860503268453056e-30\n",
      "-7.53675441702336e-31\n",
      "1.460219961802407e-31\n",
      "1.1072022274705865e-30\n"
     ]
    }
   ],
   "source": [
    "for i, h in enumerate(hs):\n",
    "    model = hamiltonians.xxz_heisenberg_model(n_qubits, 1, h)\n",
    "    H = hamiltonians.explicit_hamiltonian(model)\n",
    "    H = csr_matrix(H)\n",
    "    e, v = SPLA.eigsh(H, k=1, which=\"SA\")\n",
    "#     gs = hamiltonians.exact_gs(model)\n",
    "    mag = v.conj().T @ total_magnetization @ v\n",
    "    print(mag[0, 0].real)\n",
    "    magnetizations[i] = mag[0, 0].real"
   ]
  },
  {
   "cell_type": "code",
   "execution_count": 117,
   "metadata": {},
   "outputs": [
    {
     "data": {
      "image/png": "[encoded data removed]",
      "text/plain": [
       "<Figure size 648x432 with 1 Axes>"
      ]
     },
     "metadata": {
      "needs_background": "light"
     },
     "output_type": "display_data"
    }
   ],
   "source": [
    "fig, ax = plt.subplots()\n",
    "plt.plot(hs, magnetizations)\n",
    "plt.xlabel(\"$J_z$\")\n",
    "plt.ylabel(\"Total magnetization $\\sum \\\\langle \\sigma_z^{(i)} \\\\rangle$\")\n",
    "fig.savefig('xxz_z_magnetization.eps', format='eps', bbox_inches = 'tight')"
   ]
  },
  {
   "cell_type": "code",
   "execution_count": 122,
   "metadata": {},
   "outputs": [
    {
     "name": "stdout",
     "output_type": "stream",
     "text": [
      "[-20.         -20.         -16.         -15.23606798 -16.\n",
      " -15.23606798 -14.01721298 -14.01721298 -15.23606798 -15.23606798]\n",
      "-2.2947437024677892\n",
      "2.2744376132805506\n",
      "-0.977047224661725\n",
      "-3.201362800720517\n",
      "0.9428804407776634\n",
      "3.962924214372798\n",
      "1.4951697017492926\n",
      "-1.4823682061223464\n",
      "2.030927381863474\n",
      "-3.537069895353607\n"
     ]
    }
   ],
   "source": [
    "h = -2\n",
    "model = hamiltonians.xxz_heisenberg_model(n_qubits, 1, h)\n",
    "H = hamiltonians.explicit_hamiltonian(model)\n",
    "H = csr_matrix(H)\n",
    "es, vs = SPLA.eigsh(H, k=10, which=\"SA\")\n",
    "print(es)\n",
    "for j in range(10):\n",
    "    v = vs[:, j]\n",
    "    mag = v.conj().T @ total_magnetization @ v\n",
    "    print(mag.real)"
   ]
  },
  {
   "cell_type": "code",
   "execution_count": 121,
   "metadata": {},
   "outputs": [
    {
     "data": {
      "text/plain": [
       "(1024, 10)"
      ]
     },
     "execution_count": 121,
     "metadata": {},
     "output_type": "execute_result"
    }
   ],
   "source": [
    "np.shape(vs)"
   ]
  },
  {
   "cell_type": "code",
   "execution_count": null,
   "metadata": {},
   "outputs": [],
   "source": []
  }
 ],
 "metadata": {
  "kernelspec": {
   "display_name": "Python3 (quantumenv)",
   "language": "python",
   "name": "quantumenv"
  },
  "language_info": {
   "codemirror_mode": {
    "name": "ipython",
    "version": 3
   },
   "file_extension": ".py",
   "mimetype": "text/x-python",
   "name": "python",
   "nbconvert_exporter": "python",
   "pygments_lexer": "ipython3",
   "version": "3.6.9"
  }
 },
 "nbformat": 4,
 "nbformat_minor": 2
}
