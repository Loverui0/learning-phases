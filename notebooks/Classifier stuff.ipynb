{
 "cells": [
  {
   "cell_type": "code",
   "execution_count": 52,
   "metadata": {},
   "outputs": [],
   "source": [
    "import numpy as np\n",
    "from qiskit import QuantumRegister, ClassicalRegister, QuantumCircuit\n",
    "from qiskit import Aer, execute\n",
    "import qiskit.extensions.quantum_initializer as qeqi\n",
    "import time\n",
    "from scipy.optimize import minimize, approx_fprime\n",
    "import matplotlib.pyplot as plt\n",
    "import scipy.sparse.linalg as SPLA\n",
    "import csv\n",
    "import pandas as pd\n",
    "from functools import reduce\n",
    "from skopt import gp_minimize\n",
    "\n",
    "import sys\n",
    "sys.path.append(\"..\")\n",
    "\n",
    "import Entangler\n",
    "import TensorNetwork\n",
    "import hamiltonians\n",
    "import TNOptimize\n",
    "import uuid\n",
    "import json\n",
    "import utils\n",
    "\n",
    "plt.rcParams.update({'font.size': 18})\n",
    "plt.rcParams.update({'figure.figsize': [9, 6]})"
   ]
  },
  {
   "cell_type": "code",
   "execution_count": null,
   "metadata": {},
   "outputs": [],
   "source": []
  },
  {
   "cell_type": "code",
   "execution_count": null,
   "metadata": {},
   "outputs": [],
   "source": []
  },
  {
   "cell_type": "code",
   "execution_count": 53,
   "metadata": {},
   "outputs": [],
   "source": [
    "n_qubits = 10\n",
    "depth = 4\n",
    "q, c = QuantumRegister(n_qubits), ClassicalRegister(n_qubits)\n",
    "ent = Entangler.IsingEntangler()\n",
    "TN = TensorNetwork.Checkerboard(q, c, ent, depth=depth)\n",
    "# TN_UCC = TensorNetwork.UCCSD(q, c)\n",
    "\n",
    "tol = 1e-6\n",
    "method = \"L-BFGS-B\"\n",
    "sv_b = Aer.get_backend(\"statevector_simulator\")\n",
    "qasm_b = Aer.get_backend(\"qasm_simulator\")\n",
    "unitary_b = Aer.get_backend('unitary_simulator')"
   ]
  },
  {
   "cell_type": "markdown",
   "metadata": {},
   "source": [
    "### Prepare the exact data\n",
    "\n",
    "Solve the problem explicitly and then dump that into the datafile. All states to the left of the infinite phase transition point get labeled as \"0\", those to the right get labeled as \"1\""
   ]
  },
  {
   "cell_type": "raw",
   "metadata": {},
   "source": [
    "n_data_points = 40 #per side\n",
    "J = 1\n",
    "\n",
    "with open(\"test_8.csv\", \"a\", newline='') as fd:\n",
    "    statewriter = csv.writer(fd, delimiter=',', quoting=csv.QUOTE_MINIMAL)\n",
    "    for i in range(n_data_points):\n",
    "        h = 2 * np.random.rand()\n",
    "        if np.isclose(h, 1):\n",
    "            continue\n",
    "        ham_dict = hamiltonians.ising_model(n_qubits, J, h)\n",
    "        H = hamiltonians.explicit_hamiltonian(ham_dict)\n",
    "        w, v = SPLA.eigsh(H, which=\"SA\")\n",
    "        E = w[0]\n",
    "        state = v[:, 0]\n",
    "#         jsonized = utils.jsonize(state)\n",
    "#         flat = np.reshape(jsonized, (2**(n_qubits + 1), 1)).flatten()\n",
    "        ### We can save just the complex states as they are\n",
    "        if (h>1):\n",
    "            state_label = 1\n",
    "        else:\n",
    "            state_label = 0\n",
    "        total_data = np.concatenate((state, [h, E, state_label]))\n",
    "        ##rowstring = np.array2string(total_data, max_line_width=5000)[1:-1]\n",
    "        ##rowstring = rowstring + ' ' + state_label + \"\\n\"\n",
    "        statewriter.writerow(total_data)\n",
    "\n",
    "        "
   ]
  },
  {
   "cell_type": "markdown",
   "metadata": {},
   "source": [
    "### Repack this into a pandas"
   ]
  },
  {
   "cell_type": "code",
   "execution_count": 54,
   "metadata": {},
   "outputs": [],
   "source": [
    "# df_train = pd.read_csv(\"train.csv\", header=None)\n",
    "# df_test = pd.read_csv(\"test.csv\", header=None)\n",
    "\n",
    "# df_train = df_train.applymap(lambda x: np.complex(x))\n",
    "# df_test = df_test.applymap(lambda x: np.complex(x))\n",
    "\n",
    "# n_max = 2**n_qubits\n",
    "\n",
    "# df_train[n_max] = df_train[n_max].apply(lambda x: x.real)\n",
    "# df_train[n_max+1] = df_train[n_max+1].apply(lambda x: x.real)\n",
    "# df_train[n_max+2] = df_train[n_max+2].apply(lambda x: x.real)\n",
    "\n",
    "# df_test[n_max] = df_test[n_max].apply(lambda x: x.real)\n",
    "# df_test[n_max+1] = df_test[n_max+1].apply(lambda x: x.real)\n",
    "# df_test[n_max+2] = df_test[n_max+2].apply(lambda x: x.real)\n",
    "\n",
    "\n",
    "# df_vqe = pd.read_csv(\"6_qubits_vqe.csv\", header=None)\n",
    "# #df_vqe = df_test.applymap(lambda x: np.complex(x))\n",
    "\n",
    "\n",
    "# n_qubits = 10\n",
    "\n",
    "filename = \"vqe_data.csv\"\n",
    "\n",
    "n_max = 2**n_qubits + 100\n",
    "n_cdata = 2**n_qubits\n",
    "df_vqe_2 = pd.read_csv(filename, header=None)\n",
    "df_vqe_2 = df_vqe_2.applymap(lambda x: np.complex(x))\n",
    "\n",
    "df_vqe_2[n_max] = df_vqe_2[n_max].apply(lambda x: x.real)\n",
    "df_vqe_2[n_max+1] = df_vqe_2[n_max+1].apply(lambda x: x.real)\n",
    "df_vqe_2[n_max+2] = df_vqe_2[n_max+2].apply(lambda x: x.real)\n",
    "\n",
    "# df_vqe = df_vqe_2.drop([0, 1])\n",
    "df_vqe = df_vqe_2"
   ]
  },
  {
   "cell_type": "code",
   "execution_count": 55,
   "metadata": {
    "scrolled": true
   },
   "outputs": [
    {
     "name": "stdout",
     "output_type": "stream",
     "text": [
      "    1124       1125\n",
      "0   0.00  -5.999715\n",
      "1   0.00  -9.999909\n",
      "2   0.02 -10.000913\n",
      "3   0.02  -6.061791\n",
      "4   0.04 -10.003871\n",
      "5   0.04 -10.003916\n",
      "6   0.06 -10.008791\n",
      "7   0.06 -10.008921\n",
      "8   0.08 -10.015930\n",
      "9   0.08 -10.015659\n",
      "10  0.10 -10.024944\n",
      "11  0.10 -10.024477\n",
      "12  0.12 -10.035967\n",
      "13  0.12 -10.035251\n",
      "14  0.14 -10.048999\n",
      "15  0.14 -10.048934\n",
      "16  0.16 -10.064041\n",
      "17  0.16 -10.063904\n",
      "18  0.18 -10.080847\n",
      "19  0.18 -10.080978\n",
      "[0, 3, 4, 6, 9, 11, 13, 15, 17, 18]\n",
      "[1, 2, 5, 7, 8, 10, 12, 14, 16, 19]\n",
      "=============\n",
      "    1124       1125\n",
      "1   0.00  -9.999909\n",
      "2   0.02 -10.000913\n",
      "5   0.04 -10.003916\n",
      "7   0.06 -10.008921\n",
      "8   0.08 -10.015930\n",
      "10  0.10 -10.024944\n",
      "12  0.12 -10.035967\n",
      "14  0.14 -10.048999\n",
      "16  0.16 -10.064041\n",
      "19  0.18 -10.080978\n"
     ]
    }
   ],
   "source": [
    "df_vqe_clean = df_vqe.sort_values(by=[n_max])\n",
    "df_vqe_clean.index = np.arange(len(df_vqe))\n",
    "# df_vqe_clean = df_vqe.sort_index(by=[n_max])\n",
    "\n",
    "todrop = []\n",
    "tokeep = []\n",
    "for i in range(len(df_vqe) // 2):\n",
    "    E_1 = df_vqe_clean.iloc[i * 2, n_max + 1]\n",
    "    E_2 = df_vqe_clean.iloc[i * 2 + 1, n_max + 1]\n",
    "    h_1 = df_vqe_clean.iloc[i * 2, n_max]\n",
    "    h_2 = df_vqe_clean.iloc[i * 2 + 1, n_max]\n",
    "#     print(h_1, h_2)\n",
    "#     print(E_1, E_2)\n",
    "#     print(\"====\")\n",
    "    if (E_2 > E_1):\n",
    "        todrop.append(i * 2 + 1)\n",
    "        tokeep.append(i * 2)\n",
    "    else:\n",
    "        todrop.append(i * 2)\n",
    "        tokeep.append(i * 2 + 1)\n",
    "\n",
    "        \n",
    "for i in range(len(df_vqe) // 2):\n",
    "    E_kept = df_vqe_clean.iloc[tokeep[i], n_max + 1]\n",
    "    E_dropped = df_vqe_clean.iloc[todrop[i], n_max + 1]\n",
    "    if E_dropped < E_kept:\n",
    "        print(\"AAA\")\n",
    "\n",
    "print(df_vqe_clean.iloc[:20, [n_max, n_max + 1]])\n",
    "\n",
    "print(todrop[:10])\n",
    "print(tokeep[:10])\n",
    "\n",
    "print(\"=============\")        \n",
    "        \n",
    "df_vqe_clean = df_vqe_clean.drop(todrop)\n",
    "print(df_vqe_clean.iloc[:10, [n_max, n_max + 1]])\n"
   ]
  },
  {
   "cell_type": "code",
   "execution_count": 56,
   "metadata": {},
   "outputs": [],
   "source": [
    "h_list = np.array(df_vqe_clean[1124])\n",
    "E_list = np.array(df_vqe_clean[1125])"
   ]
  },
  {
   "cell_type": "code",
   "execution_count": 57,
   "metadata": {},
   "outputs": [
    {
     "data": {
      "text/plain": [
       "<matplotlib.collections.PathCollection at 0x7f9909340438>"
      ]
     },
     "execution_count": 57,
     "metadata": {},
     "output_type": "execute_result"
    },
    {
     "data": {
      "image/png": "[encoded data removed]",
      "text/plain": [
       "<Figure size 648x432 with 1 Axes>"
      ]
     },
     "metadata": {
      "needs_background": "light"
     },
     "output_type": "display_data"
    }
   ],
   "source": [
    "# %matplotlib inline\n",
    "plt.scatter(h_list, E_list)"
   ]
  },
  {
   "cell_type": "code",
   "execution_count": 58,
   "metadata": {},
   "outputs": [
    {
     "data": {
      "text/plain": [
       "100"
      ]
     },
     "execution_count": 58,
     "metadata": {},
     "output_type": "execute_result"
    }
   ],
   "source": [
    "len(df_vqe_clean)"
   ]
  },
  {
   "cell_type": "code",
   "execution_count": 59,
   "metadata": {},
   "outputs": [],
   "source": [
    "train_pos = int(0.8 * len(df_vqe_clean))"
   ]
  },
  {
   "cell_type": "code",
   "execution_count": null,
   "metadata": {},
   "outputs": [],
   "source": []
  },
  {
   "cell_type": "code",
   "execution_count": null,
   "metadata": {},
   "outputs": [],
   "source": []
  },
  {
   "cell_type": "code",
   "execution_count": null,
   "metadata": {},
   "outputs": [],
   "source": []
  },
  {
   "cell_type": "markdown",
   "metadata": {},
   "source": [
    "### Shuffle the dataset, split into train and test"
   ]
  },
  {
   "cell_type": "code",
   "execution_count": 60,
   "metadata": {},
   "outputs": [],
   "source": [
    "df_vqe = df_vqe_clean.sample(frac=1).reset_index(drop=True)"
   ]
  },
  {
   "cell_type": "code",
   "execution_count": 61,
   "metadata": {},
   "outputs": [],
   "source": [
    "train_pos = int(0.8 * len(df_vqe_clean))\n",
    "df_train = df_vqe.iloc[:train_pos,:]\n",
    "df_test = df_vqe.iloc[train_pos:,:]"
   ]
  },
  {
   "cell_type": "code",
   "execution_count": 62,
   "metadata": {},
   "outputs": [],
   "source": [
    "current_state = np.array(df_train.iloc[0][:n_cdata])"
   ]
  },
  {
   "cell_type": "markdown",
   "metadata": {},
   "source": [
    "#### Transform VQE dataset into a collection on complex rows (use only for that crappy dataset with 6 qubits)"
   ]
  },
  {
   "cell_type": "raw",
   "metadata": {},
   "source": [
    "vqe_states = []\n",
    "\n",
    "for i in range(len(df_vqe)):\n",
    "    full_row = list(map(float, df_vqe.iloc[i][0].split()[:-1]))\n",
    "    state_unjson = full_row[:128]\n",
    "    state = [full_row[2 * i] + 1j * full_row[2* i + 1] for i in range(64)]\n",
    "    state.append(full_row[-2])\n",
    "    state.append(full_row[-1])\n",
    "    if (full_row[-2] > 1):\n",
    "        state.append(1)\n",
    "    else:\n",
    "        state.append(0)\n",
    "    vqe_states.append(state)\n"
   ]
  },
  {
   "cell_type": "raw",
   "metadata": {},
   "source": [
    "states_array = np.array(vqe_states)\n"
   ]
  },
  {
   "cell_type": "raw",
   "metadata": {},
   "source": [
    "df_vqe_complex = pd.DataFrame(states_array)\n",
    "\n",
    "df_vqe_complex[64] = df_vqe_complex[64].apply(lambda x: x.real)\n",
    "df_vqe_complex[64+1] = df_vqe_complex[64+1].apply(lambda x: x.real)\n",
    "df_vqe_complex[64+2] = df_vqe_complex[64+2].apply(lambda x: x.real)"
   ]
  },
  {
   "cell_type": "raw",
   "metadata": {},
   "source": [
    "df_vqe_complex"
   ]
  },
  {
   "cell_type": "raw",
   "metadata": {},
   "source": [
    "df_vqe_complex = df_vqe_complex.sample(frac=1).reset_index(drop=True)\n"
   ]
  },
  {
   "cell_type": "raw",
   "metadata": {},
   "source": [
    "df_train = df_vqe_complex.iloc[:80,:]\n",
    "df_test = df_vqe_complex.iloc[80:,:]"
   ]
  },
  {
   "cell_type": "raw",
   "metadata": {},
   "source": [
    "current_state = np.array(df_train.iloc[0][:n_max])"
   ]
  },
  {
   "cell_type": "code",
   "execution_count": null,
   "metadata": {},
   "outputs": [],
   "source": []
  },
  {
   "cell_type": "code",
   "execution_count": null,
   "metadata": {},
   "outputs": [],
   "source": []
  },
  {
   "cell_type": "code",
   "execution_count": null,
   "metadata": {},
   "outputs": [],
   "source": []
  },
  {
   "cell_type": "code",
   "execution_count": 63,
   "metadata": {},
   "outputs": [],
   "source": [
    "measure_circ = QuantumCircuit(q, c)\n",
    "for i in range(n_qubits):\n",
    "    measure_circ.measure(q[i], c[i])"
   ]
  },
  {
   "cell_type": "markdown",
   "metadata": {},
   "source": [
    "###   Construct loss functions and prediction functions"
   ]
  },
  {
   "cell_type": "markdown",
   "metadata": {},
   "source": [
    "Slowdown is NOT in the counting procedure (well of course it isn't)"
   ]
  },
  {
   "cell_type": "code",
   "execution_count": 64,
   "metadata": {},
   "outputs": [],
   "source": [
    "def prediction(state, q, c, NN_circ, shots=10000, mode=\"qasm\"):\n",
    "    \"\"\"Probability of being in class II\"\"\"\n",
    "    circ = QuantumCircuit(q, c)\n",
    "    IG = qeqi.InitializeGate(state, q, circ)\n",
    "    IG.reapply(circ)\n",
    "    circ += NN_circ\n",
    "    # \n",
    "    label = 0\n",
    "    \n",
    "    if mode == \"qasm\":\n",
    "        circ += measure_circ    \n",
    "        job = execute(circ, qasm_b, shots=shots)\n",
    "        result = job.result()\n",
    "        answer = result.get_counts()  \n",
    "        for key, value in answer.items():\n",
    "            if key.count(\"1\") > key.count(\"0\"):\n",
    "                label += value\n",
    "            elif key.count(\"1\") == key.count(\"0\"):\n",
    "                label += value / 2\n",
    "        label = label / shots\n",
    "    elif mode == \"statevector\":\n",
    "        job = execute(circ, sv_b)\n",
    "        result = job.result()\n",
    "        res_state = result.get_statevector(circ)\n",
    "        for i in range(len(res_state)):\n",
    "            qty_ones = bin(i).count(\"1\")\n",
    "            if qty_ones > len(q) // 2:\n",
    "                label += abs(res_state[i])**2\n",
    "            elif qty_ones == len(q) // 2:\n",
    "                label += abs(res_state[i])**2 / 2 \n",
    "    else:\n",
    "        raise ValueError(\"Incorrect mode\")\n",
    "\n",
    "    #label = abs(res_state[-1])**2 / (abs(res_state[-1])**2 + abs(res_state[0])**2 + 1e-4)\n",
    "    return label\n",
    "\n",
    "\n",
    "def unitary_prediction(state, U):\n",
    "    \"\"\"Returns the probability that the state is in class II by\n",
    "    transforming the circuit into a unitary map\"\"\"\n",
    "#     if U_supply is None:\n",
    "#         result = execute(NN_circ, unitary_b).result()\n",
    "#         U = result.get_unitary(NN_circ)\n",
    "#     else:\n",
    "#         U = U_supply\n",
    "    res_state = U @ state\n",
    "    \n",
    "    label = [0, 0]\n",
    "    \n",
    "    for i in range(len(res_state)):\n",
    "        qty_ones = bin(i).count(\"1\")\n",
    "        if qty_ones > len(q) // 2:\n",
    "            label[1] += abs(res_state[i])**2\n",
    "        elif qty_ones < len(q) // 2:\n",
    "            label[0] += abs(res_state[i])**2 / 2 \n",
    "\n",
    "    return label[1] / (label[0] + label[1])\n"
   ]
  },
  {
   "cell_type": "code",
   "execution_count": 65,
   "metadata": {},
   "outputs": [],
   "source": [
    "params = 2 * np.pi * np.random.rand(TN.n_params)\n",
    "circ = TN.construct_circuit(params)\n",
    "\n",
    "def build_loss_fun(df, start, batch_size, TN):\n",
    "    \"\"\"construct the loss function for a batch\"\"\"\n",
    "#     if (finish <= start):\n",
    "#         raise ValueError(\"Specify other rows\")\n",
    "    if batch_size < 1:\n",
    "        raise ValueError(\"Invalid batch size\")\n",
    "    #indices = np.random.choice(len(df), batch_size, replace=False)\n",
    "    #indices = np.arange(start, start + batch_size)\n",
    "    \n",
    "    def f(x):\n",
    "        circ = TN.construct_circuit(x)\n",
    "        result = execute(circ, unitary_b).result()\n",
    "        U = result.get_unitary(circ)\n",
    "        logloss = 0\n",
    "        for i in range(start, start+batch_size):\n",
    "            state = df_train.iloc[i][:n_cdata]\n",
    "            y = df_train.iloc[i][n_max+2].real\n",
    "            p = unitary_prediction(state, U)\n",
    "            logloss += -(y * np.log(p) + (1 - y) * np.log(1 - p))\n",
    "            \n",
    "        return logloss / batch_size\n",
    "    return f"
   ]
  },
  {
   "cell_type": "code",
   "execution_count": 66,
   "metadata": {},
   "outputs": [],
   "source": [
    "f = build_loss_fun(df_train, 0, 80, TN)"
   ]
  },
  {
   "cell_type": "code",
   "execution_count": 67,
   "metadata": {},
   "outputs": [
    {
     "name": "stdout",
     "output_type": "stream",
     "text": [
      "0.8968660169528987\n",
      "CPU times: user 1.42 s, sys: 63.9 ms, total: 1.48 s\n",
      "Wall time: 6.73 s\n"
     ]
    }
   ],
   "source": [
    "%%time\n",
    "\n",
    "\n",
    "NN_circ = TN.construct_circuit(np.ones(TN.n_params))\n",
    "result = execute(NN_circ, unitary_b).result()\n",
    "U = result.get_unitary(NN_circ)\n",
    "#print(prediction(current_state, TN.q, TN.c, NN_circ, mode=\"qasm\"))\n",
    "print(unitary_prediction(current_state, U))"
   ]
  },
  {
   "cell_type": "code",
   "execution_count": 68,
   "metadata": {},
   "outputs": [
    {
     "name": "stdout",
     "output_type": "stream",
     "text": [
      "1.464813435817271\n",
      "CPU times: user 2.22 s, sys: 533 ms, total: 2.75 s\n",
      "Wall time: 6.85 s\n"
     ]
    }
   ],
   "source": [
    "%%time\n",
    "x = np.random.rand(TN.n_params)\n",
    "print(f(x))"
   ]
  },
  {
   "cell_type": "raw",
   "metadata": {},
   "source": [
    "%%time\n",
    "\n",
    "# grad = approx_fprime(params, f, 1e-5)"
   ]
  },
  {
   "cell_type": "markdown",
   "metadata": {},
   "source": [
    "The approach above is very costly because it has to rebuild the unitary map at every call of the function"
   ]
  },
  {
   "cell_type": "code",
   "execution_count": 41,
   "metadata": {},
   "outputs": [],
   "source": [
    "def rand_grad(x, f, eps):\n",
    "    dx = np.random.randn(np.shape(x)[0]) * eps\n",
    "    f_plus = f(x + dx)\n",
    "    f_minus = f(x - dx)\n",
    "    return (f_plus - f_minus) / 2 / dx, 0.5 * (f_plus + f_minus)"
   ]
  },
  {
   "cell_type": "code",
   "execution_count": 42,
   "metadata": {},
   "outputs": [
    {
     "data": {
      "text/plain": [
       "(array([ -0.4977686 ,   0.65501116,  -0.25828076,  -0.98814402,\n",
       "          0.21112013,  -0.16436441,   0.8096258 ,   0.16072449,\n",
       "          0.31116968,   0.2495324 ,  -0.26493939,   1.03532112,\n",
       "          0.63356986,   0.17547448,  -0.50736852,   0.36162478,\n",
       "          0.18860055,   0.35337245,  -0.47493939,   2.87337612,\n",
       "         -0.54519872,  -0.19583692,   0.19741259,   2.46291989,\n",
       "          0.21019737,   0.38747483,   0.14695679,  -0.34987955,\n",
       "         -0.49721925,  -0.17277697,  -1.07184264,   1.38577282,\n",
       "         -1.29944399,  -0.71619106,   0.23661621,  -0.18647092,\n",
       "          1.58307488,   0.41833129,  -0.51241191,  -1.78691046,\n",
       "          0.78565471,  -1.07167927,   0.75306803,   0.92380904,\n",
       "         -0.8980597 ,  -1.47363062,  -0.40779389,  -1.54299963,\n",
       "          1.35603674,   1.36397138,   1.22690532,   0.25848469,\n",
       "          0.15035493,  -0.69786011,   0.71375368,  -2.02893294,\n",
       "          1.99597354,   1.3172972 ,  -3.18849799,  -0.30418718,\n",
       "         -0.20808383,  -0.30671958,   0.31181237,   0.15481342,\n",
       "         -1.29702518,   0.21360344,  -0.13128938,   1.00499792,\n",
       "          0.5951774 , -13.88240296,   0.86031576,  -6.14340946,\n",
       "         -0.321874  ,   0.18474012,  -2.28659236,   0.16453677,\n",
       "          9.40307239,   0.42611763,  -0.27893974,   1.29091025,\n",
       "         -0.56497458,   0.26121296,   0.59557196,   0.38854447,\n",
       "          2.18255479,  -0.19766366,   0.25701839,   0.36038883,\n",
       "         -1.78010487,  -0.61095453,   0.28908465,  -0.30393808,\n",
       "          0.33990966,   0.50420268,  -0.97962316,  -0.90054638,\n",
       "          0.56027797,  -0.6064878 ,  -2.59833938,   1.00710243]),\n",
       " 0.7165856121568795)"
      ]
     },
     "execution_count": 42,
     "metadata": {},
     "output_type": "execute_result"
    }
   ],
   "source": [
    "rand_grad(x, f, 1e-4)"
   ]
  },
  {
   "cell_type": "raw",
   "metadata": {},
   "source": [
    "x = [1.21878011, 3.53180216, 4.31013168, 1.6792138 , 1.8823741 ,\n",
    "       3.87709607, 4.90537868, 2.14621779, 5.08753037, 0.76363904,\n",
    "       0.20338877, 5.61141327, 2.3215133 , 3.79230532, 1.6313582 ,\n",
    "       1.37933426, 2.67007971, 4.37886814, 1.65148036, 5.80966683,\n",
    "       1.60296841, 4.27988483, 2.39408348, 3.12837663, 4.18981467,\n",
    "       1.90443427, 1.52541191, 0.37089756, 3.86029683, 2.45574748,\n",
    "       0.53332074, 0.08787105, 0.38937568, 5.94418597, 5.63607176,\n",
    "       1.33007586, 4.03489943, 2.55097714, 1.01343171, 6.27931287,\n",
    "       2.45892602, 2.6885352 , 4.96817394, 3.99326574, 5.64673409,\n",
    "       3.58231723, 4.65158126, 1.54033794, 5.64523604, 4.375835  ,\n",
    "       2.79415016, 3.10323345, 1.31131424, 3.05419628, 6.02692159,\n",
    "       2.32397812, 0.53236164, 0.93726905, 5.49117298, 5.89885696]"
   ]
  },
  {
   "cell_type": "code",
   "execution_count": null,
   "metadata": {},
   "outputs": [],
   "source": []
  },
  {
   "cell_type": "markdown",
   "metadata": {},
   "source": [
    "### Run the machine learning"
   ]
  },
  {
   "cell_type": "code",
   "execution_count": 43,
   "metadata": {},
   "outputs": [
    {
     "name": "stdout",
     "output_type": "stream",
     "text": [
      "Epoch 0 batch 0\n",
      "loss: 0.7866737158460292\n",
      "Epoch 0 batch 1\n",
      "loss: 0.735607765345698\n",
      "Epoch 0 batch 2\n",
      "loss: 0.7026965883628344\n",
      "Epoch 0 batch 3\n",
      "loss: 0.6840177959168507\n",
      "Epoch 0 batch 4\n",
      "loss: 0.6538310634674904\n",
      "Epoch 0 batch 5\n",
      "loss: 0.6272729360632388\n",
      "Epoch 0 batch 6\n",
      "loss: 0.6273199776794005\n",
      "Epoch 0 batch 7\n",
      "loss: 0.5820959970197201\n",
      "Epoch 10 batch 0\n",
      "loss: 0.42159101136782107\n",
      "Epoch 10 batch 1\n",
      "loss: 0.39153139971617623\n",
      "Epoch 10 batch 2\n",
      "loss: 0.362672642682001\n",
      "Epoch 10 batch 3\n",
      "loss: 0.39019873079501455\n",
      "Epoch 10 batch 4\n",
      "loss: 0.3948737358945152\n",
      "Epoch 10 batch 5\n",
      "loss: 0.40880118964433326\n",
      "Epoch 10 batch 6\n",
      "loss: 0.3671325504960484\n",
      "Epoch 10 batch 7\n",
      "loss: 0.4020152598698348\n",
      "Epoch 20 batch 0\n",
      "loss: 0.3889550949120374\n",
      "Epoch 20 batch 1\n",
      "loss: 0.2940735953824727\n",
      "Epoch 20 batch 2\n",
      "loss: 0.3177929203700658\n",
      "Epoch 20 batch 3\n",
      "loss: 0.35479683899826103\n",
      "Epoch 20 batch 4\n",
      "loss: 0.30521445116591883\n",
      "Epoch 20 batch 5\n",
      "loss: 0.31219782665714635\n",
      "Epoch 20 batch 6\n",
      "loss: 0.298845952380024\n",
      "Epoch 20 batch 7\n",
      "loss: 0.2858131491145659\n",
      "Epoch 30 batch 0\n",
      "loss: 0.3222113573302575\n",
      "Epoch 30 batch 1\n",
      "loss: 0.30041601746588986\n",
      "Epoch 30 batch 2\n",
      "loss: 0.25856450441209267\n",
      "Epoch 30 batch 3\n",
      "loss: 0.3233672786475822\n",
      "Epoch 30 batch 4\n",
      "loss: 0.32302877202688685\n",
      "Epoch 30 batch 5\n",
      "loss: 0.3128682202020997\n",
      "Epoch 30 batch 6\n",
      "loss: 0.31840566705296164\n",
      "Epoch 30 batch 7\n",
      "loss: 0.29632802638896943\n",
      "Epoch 40 batch 0\n",
      "loss: 0.29110072741620946\n",
      "Epoch 40 batch 1\n",
      "loss: 0.2979500591363764\n",
      "Epoch 40 batch 2\n",
      "loss: 0.29370779711436695\n",
      "Epoch 40 batch 3\n",
      "loss: 0.3021130631089592\n",
      "Epoch 40 batch 4\n",
      "loss: 0.3079448874314562\n",
      "Epoch 40 batch 5\n",
      "loss: 0.28532443959310383\n",
      "Epoch 40 batch 6\n",
      "loss: 0.2742468080227051\n",
      "Epoch 40 batch 7\n",
      "loss: 0.2956992562743137\n",
      "Epoch 50 batch 0\n",
      "loss: 0.3198235847032568\n",
      "Epoch 50 batch 1\n",
      "loss: 0.2851936059734792\n",
      "Epoch 50 batch 2\n",
      "loss: 0.2582819064814693\n",
      "Epoch 50 batch 3\n",
      "loss: 0.2641284713385926\n",
      "Epoch 50 batch 4\n",
      "loss: 0.28300260125573196\n",
      "Epoch 50 batch 5\n",
      "loss: 0.24575155290372652\n",
      "Epoch 50 batch 6\n",
      "loss: 0.3067653211742629\n",
      "Epoch 50 batch 7\n",
      "loss: 0.3121502256343147\n",
      "Epoch 60 batch 0\n",
      "loss: 0.30775600602428654\n",
      "Epoch 60 batch 1\n",
      "loss: 0.25848744673420515\n",
      "Epoch 60 batch 2\n",
      "loss: 0.2615490327442518\n",
      "Epoch 60 batch 3\n",
      "loss: 0.24405545041338528\n",
      "Epoch 60 batch 4\n",
      "loss: 0.23845474551881193\n",
      "Epoch 60 batch 5\n",
      "loss: 0.28072173073519086\n",
      "Epoch 60 batch 6\n",
      "loss: 0.2904674505746412\n",
      "Epoch 60 batch 7\n",
      "loss: 0.2536963246332091\n",
      "Epoch 70 batch 0\n",
      "loss: 0.27172912729409915\n",
      "Epoch 70 batch 1\n",
      "loss: 0.2769206015340001\n",
      "Epoch 70 batch 2\n",
      "loss: 0.2780500572211948\n",
      "Epoch 70 batch 3\n",
      "loss: 0.26360714959756215\n",
      "Epoch 70 batch 4\n",
      "loss: 0.23739529872371595\n",
      "Epoch 70 batch 5\n",
      "loss: 0.21926440395880273\n",
      "Epoch 70 batch 6\n",
      "loss: 0.2518721780882349\n",
      "Epoch 70 batch 7\n",
      "loss: 0.24684391216128493\n",
      "Epoch 80 batch 0\n",
      "loss: 0.25903066026065835\n",
      "Epoch 80 batch 1\n",
      "loss: 0.2430854539640772\n",
      "Epoch 80 batch 2\n",
      "loss: 0.21812770836405992\n",
      "Epoch 80 batch 3\n",
      "loss: 0.26240910919394705\n",
      "Epoch 80 batch 4\n",
      "loss: 0.24714121655101165\n",
      "Epoch 80 batch 5\n",
      "loss: 0.2321828435344258\n",
      "Epoch 80 batch 6\n",
      "loss: 0.23022774920642347\n",
      "Epoch 80 batch 7\n",
      "loss: 0.2324803547347883\n",
      "Epoch 90 batch 0\n",
      "loss: 0.23991682221280208\n",
      "Epoch 90 batch 1\n",
      "loss: 0.20062436609002537\n",
      "Epoch 90 batch 2\n",
      "loss: 0.20230169358418423\n",
      "Epoch 90 batch 3\n",
      "loss: 0.23324737566905257\n",
      "Epoch 90 batch 4\n",
      "loss: 0.2362408910698735\n",
      "Epoch 90 batch 5\n",
      "loss: 0.21118218089115115\n",
      "Epoch 90 batch 6\n",
      "loss: 0.2197936906955948\n",
      "Epoch 90 batch 7\n",
      "loss: 0.2227425508099244\n",
      "CPU times: user 59min 25s, sys: 26min 55s, total: 1h 26min 20s\n",
      "Wall time: 2h 54min 19s\n"
     ]
    }
   ],
   "source": [
    "%%time\n",
    "batch_size = 100\n",
    "n_epochs = 100\n",
    "\n",
    "losses = []\n",
    "\n",
    "\n",
    "params = 2 * np.pi * np.random.rand(TN.n_params)\n",
    "x = params\n",
    "\n",
    "lr_base = 5\n",
    "\n",
    "decay = 1e-3\n",
    "factor = 1 - decay\n",
    "\n",
    "eps_base = 1e-1\n",
    "\n",
    "v = np.zeros(TN.n_params) #momentum\n",
    "\n",
    "for epoch in range(n_epochs):\n",
    "    df_train = df_train.sample(frac=1).reset_index(drop=True)\n",
    "    for batch_num in range(len(df_train) // batch_size):\n",
    "        \n",
    "        start = batch_size * batch_num\n",
    "        f = build_loss_fun(df_train, start, batch_size, TN)\n",
    "        #res = minimize(f, x, options={'maxiter':3}, method=\"L-BFGS-B\")\n",
    "        \n",
    "        eps = eps_base / (1 + batch_num * (epoch + 1))**0.5\n",
    "        lr = lr_base / (1 + batch_num * (epoch + 1))**0.5\n",
    "        \n",
    "        #grad = approx_fprime(x, f, eps)\n",
    "        dx = np.random.randn(np.shape(x)[0]) * eps\n",
    "        f_plus = f(x + dx)\n",
    "        f_minus = f(x - dx)\n",
    "        \n",
    "        grad = (f_plus - f_minus) / 2 / np.linalg.norm(dx)\n",
    "                                \n",
    "        v = 0.9 * v - grad * lr * dx\n",
    "        x = x + v        \n",
    "        \n",
    "        loss = (f_plus + f_minus) / 2\n",
    "        if (epoch % 10 == 0):\n",
    "            print('Epoch {0:d} batch {1:d}'.format(epoch, batch_num))\n",
    "            print('loss:', loss)\n",
    "        losses.append(loss)\n",
    "        \n",
    "#     if (epoch % 10 ==0):\n",
    "#         lr = lr * factor\n",
    "        #print('lr:', lr)\n",
    "        #print(res.fun)\n",
    "        #x = res.x"
   ]
  },
  {
   "cell_type": "code",
   "execution_count": 69,
   "metadata": {},
   "outputs": [],
   "source": [
    "x = [ 7.88566885,  5.57262969,  3.31575204,  2.52260022,  4.63372683,\n",
    "        2.03326717,  3.39884656,  0.58882239,  1.4371148 ,  6.31460732,\n",
    "        2.75504802,  3.17318168,  4.55778403,  0.54570938,  5.07837665,\n",
    "        1.90720252,  1.18228654,  3.34923554,  2.88419169,  3.18780128,\n",
    "        2.80643765, -1.71457802,  1.16545145,  0.59748925,  3.15421318,\n",
    "        8.64487332,  4.08296961,  0.63137071,  0.36625812,  6.09104975,\n",
    "        3.00263684,  3.02392755,  5.20485907,  4.95652024,  2.99609563,\n",
    "        3.56377492,  3.36279011,  2.79407486,  6.57538661,  2.25981725,\n",
    "        1.02477799,  6.08961369, -0.2821432 ,  3.41720903,  5.4304107 ,\n",
    "        3.26992855,  1.46236803,  6.0498095 ,  5.17873266,  3.50186565,\n",
    "       -0.5531557 ,  4.51364667,  3.01422152, -0.28906655, -0.30621207,\n",
    "        3.66101559,  0.71069141,  8.97657046,  3.6472432 ,  2.27180934,\n",
    "        5.37926973,  2.76516709,  2.88793832,  5.09125684, -1.21820463,\n",
    "        3.32294188,  2.79398114,  0.81419679,  1.45329901,  2.38058609,\n",
    "        3.19739456, -0.21956584,  0.32115685, -1.20878963,  1.54552705,\n",
    "        1.43747308,  2.49391183,  4.86681118,  1.68376976,  3.42766854,\n",
    "        2.7322432 ,  1.34589925,  4.62928466, -0.21706109,  2.9911826 ,\n",
    "        4.34784354,  0.87113722,  0.85075528,  1.5028714 ,  0.17363522,\n",
    "       -1.8159517 ,  0.6754199 ,  1.21490509, 10.17935577, -3.00588571,\n",
    "        0.19054222,  0.9136896 ,  1.00750769,  1.28624999, -1.85888703]"
   ]
  },
  {
   "cell_type": "code",
   "execution_count": 21,
   "metadata": {},
   "outputs": [
    {
     "data": {
      "text/plain": [
       "array([ 7.88566885,  5.57262969,  3.31575204,  2.52260022,  4.63372683,\n",
       "        2.03326717,  3.39884656,  0.58882239,  1.4371148 ,  6.31460732,\n",
       "        2.75504802,  3.17318168,  4.55778403,  0.54570938,  5.07837665,\n",
       "        1.90720252,  1.18228654,  3.34923554,  2.88419169,  3.18780128,\n",
       "        2.80643765, -1.71457802,  1.16545145,  0.59748925,  3.15421318,\n",
       "        8.64487332,  4.08296961,  0.63137071,  0.36625812,  6.09104975,\n",
       "        3.00263684,  3.02392755,  5.20485907,  4.95652024,  2.99609563,\n",
       "        3.56377492,  3.36279011,  2.79407486,  6.57538661,  2.25981725,\n",
       "        1.02477799,  6.08961369, -0.2821432 ,  3.41720903,  5.4304107 ,\n",
       "        3.26992855,  1.46236803,  6.0498095 ,  5.17873266,  3.50186565,\n",
       "       -0.5531557 ,  4.51364667,  3.01422152, -0.28906655, -0.30621207,\n",
       "        3.66101559,  0.71069141,  8.97657046,  3.6472432 ,  2.27180934,\n",
       "        5.37926973,  2.76516709,  2.88793832,  5.09125684, -1.21820463,\n",
       "        3.32294188,  2.79398114,  0.81419679,  1.45329901,  2.38058609,\n",
       "        3.19739456, -0.21956584,  0.32115685, -1.20878963,  1.54552705,\n",
       "        1.43747308,  2.49391183,  4.86681118,  1.68376976,  3.42766854,\n",
       "        2.7322432 ,  1.34589925,  4.62928466, -0.21706109,  2.9911826 ,\n",
       "        4.34784354,  0.87113722,  0.85075528,  1.5028714 ,  0.17363522,\n",
       "       -1.8159517 ,  0.6754199 ,  1.21490509, 10.17935577, -3.00588571,\n",
       "        0.19054222,  0.9136896 ,  1.00750769,  1.28624999, -1.85888703])"
      ]
     },
     "execution_count": 21,
     "metadata": {},
     "output_type": "execute_result"
    }
   ],
   "source": [
    "### 10 qubit SPSA\n",
    "\n",
    "# array([ 7.88566885,  5.57262969,  3.31575204,  2.52260022,  4.63372683,\n",
    "#         2.03326717,  3.39884656,  0.58882239,  1.4371148 ,  6.31460732,\n",
    "#         2.75504802,  3.17318168,  4.55778403,  0.54570938,  5.07837665,\n",
    "#         1.90720252,  1.18228654,  3.34923554,  2.88419169,  3.18780128,\n",
    "#         2.80643765, -1.71457802,  1.16545145,  0.59748925,  3.15421318,\n",
    "#         8.64487332,  4.08296961,  0.63137071,  0.36625812,  6.09104975,\n",
    "#         3.00263684,  3.02392755,  5.20485907,  4.95652024,  2.99609563,\n",
    "#         3.56377492,  3.36279011,  2.79407486,  6.57538661,  2.25981725,\n",
    "#         1.02477799,  6.08961369, -0.2821432 ,  3.41720903,  5.4304107 ,\n",
    "#         3.26992855,  1.46236803,  6.0498095 ,  5.17873266,  3.50186565,\n",
    "#        -0.5531557 ,  4.51364667,  3.01422152, -0.28906655, -0.30621207,\n",
    "#         3.66101559,  0.71069141,  8.97657046,  3.6472432 ,  2.27180934,\n",
    "#         5.37926973,  2.76516709,  2.88793832,  5.09125684, -1.21820463,\n",
    "#         3.32294188,  2.79398114,  0.81419679,  1.45329901,  2.38058609,\n",
    "#         3.19739456, -0.21956584,  0.32115685, -1.20878963,  1.54552705,\n",
    "#         1.43747308,  2.49391183,  4.86681118,  1.68376976,  3.42766854,\n",
    "#         2.7322432 ,  1.34589925,  4.62928466, -0.21706109,  2.9911826 ,\n",
    "#         4.34784354,  0.87113722,  0.85075528,  1.5028714 ,  0.17363522,\n",
    "#        -1.8159517 ,  0.6754199 ,  1.21490509, 10.17935577, -3.00588571,\n",
    "#         0.19054222,  0.9136896 ,  1.00750769,  1.28624999, -1.85888703])"
   ]
  },
  {
   "cell_type": "raw",
   "metadata": {},
   "source": [
    "##### 8 qubit depth 4, two epochs\n",
    "\n",
    "x = [ 3.14130487,  4.70495217,  4.79128811,  3.42847428,  4.69935533,\n",
    "        2.94143738,  1.10554938,  2.4637632 ,  5.7222051 ,  6.07869493,\n",
    "        1.79457154,  2.92234101,  6.10364861,  5.85171497,  2.14189633,\n",
    "        5.78206805,  3.20604787,  5.95415156,  1.74903929,  1.16340295,\n",
    "        1.5940369 ,  3.31210739,  3.17430255,  1.85359092,  6.35752693,\n",
    "        4.37885147,  2.88044214,  2.18280408,  1.97161051,  4.69608595,\n",
    "        0.99669934,  3.92883841, -0.23082349,  5.7838925 ,  2.44367302,\n",
    "        6.23096188,  1.61825722,  5.16070644,  5.04544177,  1.53515216,\n",
    "        1.52498307,  5.97041334,  0.54807835,  1.33271909,  5.94466985,\n",
    "        1.6644098 ,  3.79093496,  5.86652102,  6.1637381 ,  4.00017792,\n",
    "        5.17466848,  3.15537415,  2.69764298,  2.36897816,  1.48419302,\n",
    "        1.51058875,  6.16489365,  2.18774453,  3.73695869,  0.77742145,\n",
    "       -0.66724851, -0.00872666,  1.7664542 ,  0.58508752,  3.7531484 ,\n",
    "        2.93950719,  3.98986081,  2.1969202 ,  2.59853581,  2.49909947,\n",
    "        1.21670505,  6.23218605,  2.04844635,  2.73864552,  3.45719033,\n",
    "        3.14764519,  1.06815043,  3.83183149,  6.2054218 ,  3.55736216]"
   ]
  },
  {
   "cell_type": "raw",
   "metadata": {},
   "source": [
    "### 6 qubit SGD with softmax\n",
    "\n",
    "x = [ 1.5506934 , -0.01433389,  1.83887429,  2.68112562,  0.50014617,\n",
    "        1.75844375,  3.1517003 ,  3.37049771,  4.94674665,  3.41109514,\n",
    "        6.32960728,  2.10621085,  1.33965006,  3.51047439,  4.42792159,\n",
    "        2.70562895,  5.5793712 ,  3.86694997,  1.65603157,  1.680001  ,\n",
    "        0.52253363,  4.90673696,  3.27154798,  4.43839251,  2.71167429,\n",
    "        5.3924645 ,  0.21981446,  3.29863869,  2.82525134,  5.18120532,\n",
    "        3.38296533,  1.45082243,  2.94593814,  5.07392032,  1.17219426,\n",
    "        2.5180313 ,  2.88001756,  1.01276129,  3.61863252,  1.17092494,\n",
    "        1.6783227 ,  1.90077782,  3.25247685,  6.18654141,  2.2648224 ,\n",
    "        6.26604387,  1.51046088,  5.8274508 ,  0.83868527,  5.78892886,\n",
    "        0.27011498,  6.30379025,  5.44070158,  5.85364717,  2.5249959 ,\n",
    "        3.34257677,  1.07376816,  0.91261756,  1.8962044 ,  2.30800821]\n"
   ]
  },
  {
   "cell_type": "raw",
   "metadata": {},
   "source": [
    "### 6 qubit SGD with no softmax bullshit\n",
    "\n",
    "x = [ 1.49709193,  5.27851827,  1.41644579,  0.91341532,  0.02250212,\n",
    "        3.48141127, -0.04027967,  2.38128967,  4.51353737,  5.59801527,\n",
    "        1.95723213,  0.15189924,  4.73539449, -0.04856346,  1.99387382,\n",
    "        5.32129631,  4.37504158,  5.50792059,  0.47094417,  6.53811642,\n",
    "        0.50928332,  0.95942266,  0.4508544 ,  0.50286165,  2.01578237,\n",
    "        6.30683018,  3.8015198 ,  5.01661302,  1.90090971,  4.24444916,\n",
    "        3.21373294,  3.53958227,  1.62137065,  0.76539034,  4.59595088,\n",
    "        1.85535143,  1.13507302,  4.01296714,  1.52251613,  4.04103871,\n",
    "        2.03360042,  4.93602498,  4.61409399,  1.16264868,  0.62567889,\n",
    "        2.1170228 ,  0.7500407 ,  2.40976445,  5.53012354,  3.61837128,\n",
    "        4.21741365,  1.56457005,  5.4799076 ,  0.50055429,  4.45587326,\n",
    "        3.45581806,  3.52882097,  5.87733163,  0.1015695 ,  4.70798398,\n",
    "        5.5248861 ,  4.32177541,  0.55196574,  3.85508814,  4.33125337,\n",
    "        1.97600517,  1.18699807,  4.58819998,  4.83722944,  4.25169172,\n",
    "        1.94552594,  0.76065017,  0.6781403 ,  0.02459142,  5.89497162]"
   ]
  },
  {
   "cell_type": "raw",
   "metadata": {},
   "source": [
    "#### 6 qubit trained network for depth 4\n",
    "\n",
    "x = [ 4.69395948,  3.15460155,  1.95396584,  7.11546332,  4.75738517,\n",
    "        1.56896178,  3.15567875,  3.86609207,  1.34297879,  5.72171373,\n",
    "        4.71456666,  1.57191364,  4.71306148,  3.21290659,  1.57877148,\n",
    "       -0.9752385 ,  6.42398724,  7.01242007,  5.21862445,  2.86928052,\n",
    "        0.01146326,  4.68952781,  2.19996804,  5.11732322,  4.05451345,\n",
    "        0.92680917,  4.75131025,  3.08406049,  5.98621135,  4.67788979,\n",
    "        3.48066584,  0.83778888,  5.99822116,  5.77082947, -0.20221608,\n",
    "        5.51062951,  5.39948648,  4.71571155,  2.68242635,  1.01516517,\n",
    "        5.23350903,  1.58779383,  4.71904275,  0.66768174,  4.60089905,\n",
    "        5.83573406,  1.57105361,  3.96197751,  6.22309186,  2.01396267,\n",
    "        4.71348552,  6.20848703,  5.59703337,  4.13576228,  0.25357735,\n",
    "        1.58953518,  4.52466619,  0.77584322,  5.55488185,  0.99710011]"
   ]
  },
  {
   "cell_type": "raw",
   "metadata": {},
   "source": [
    "## XXZ model, 10 qubits, depth 4, SPSA, raw data\n",
    "\n",
    "x = [ 4.75608514e+00,  6.31452262e+00,  5.98024321e+00,  1.50990556e+00,\n",
    "        1.73509901e+00,  7.97695263e+00,  4.07558228e+00,  6.33880072e+00,\n",
    "        5.48942970e+00,  3.12153324e+00,  3.03378359e+00,  4.48902718e+00,\n",
    "       -2.04169142e+00,  2.93421157e+00,  6.26984140e+00,  6.49196156e+00,\n",
    "        1.75154613e+00,  5.46318261e+00,  3.32389456e+00,  4.13678565e+00,\n",
    "        4.11546089e+00, -5.58014606e-01,  5.67267361e+00,  5.59893479e+00,\n",
    "        4.96998104e+00,  4.85638426e+00,  6.07321809e+00,  4.33771456e+00,\n",
    "        6.23492776e+00,  4.21980808e-01,  2.20868297e+00,  1.62382205e+00,\n",
    "        6.08204340e+00,  5.12652028e+00,  5.04221857e+00,  5.62315740e+00,\n",
    "        3.02598068e+00, -4.72914473e-01,  3.32491892e+00,  1.25501889e+00,\n",
    "        6.02276265e+00,  4.73299083e+00,  8.19039168e-01,  6.49203275e+00,\n",
    "        1.11384727e-01,  5.61386851e+00,  5.25418063e+00,  3.26912165e+00,\n",
    "        3.62292346e+00,  4.64745013e+00,  2.99074511e+00,  5.00898906e+00,\n",
    "        2.29406202e+00,  5.89976348e+00,  1.86441358e+00,  1.47385400e+00,\n",
    "       -1.30448603e-01,  4.18504818e+00,  4.99163212e+00,  3.83692561e+00,\n",
    "        4.93083094e+00,  2.45135986e+00,  9.96013574e-04,  3.28777671e+00,\n",
    "        6.35752536e+00,  2.64725659e+00,  4.94951441e+00,  3.75642365e+00,\n",
    "        4.36869969e+00,  3.16205622e+00,  4.74830042e+00,  4.51430966e+00,\n",
    "        3.33627310e+00,  7.56517895e+00, -6.53096425e-02,  4.54138016e+00,\n",
    "        3.08939948e+00,  4.29131907e+00,  2.91076459e+00,  5.41290405e+00,\n",
    "        1.58417895e+00,  4.04158649e+00,  6.61152315e+00,  4.49183703e+00,\n",
    "        1.87763542e+00,  5.49985650e+00, -1.65920533e+00,  1.79635555e+00,\n",
    "        1.81370474e+00,  3.95768621e+00,  1.81460619e+00,  3.17004042e+00,\n",
    "        4.71300038e+00,  5.51257338e+00,  8.16734558e-01,  3.56063383e-01,\n",
    "        4.81693130e+00,  5.40448857e+00,  4.00417022e+00,  7.03570337e+00]"
   ]
  },
  {
   "cell_type": "raw",
   "metadata": {},
   "source": [
    "## XXZ model, 10 qubits, depth 4, SPSA, cleaned data\n",
    "\n",
    "x = [-0.48930752,  0.91215185,  7.44528139,  4.99273073,  0.57720307,\n",
    "        3.04377456,  3.73037553,  0.19858228, -0.96447017,  1.10048888,\n",
    "        4.67823007,  4.66961986,  2.01990518, -0.51176529,  0.91153225,\n",
    "        2.97349555,  4.23042101,  3.15475768,  4.8031115 ,  1.50208154,\n",
    "        4.57689474,  5.93374513, -0.49785549,  6.59871001,  4.20311675,\n",
    "        3.58783157,  2.87667985,  4.2209617 ,  2.93524336, -0.76307885,\n",
    "        0.03264478,  5.26777054,  6.75879523,  2.96570804,  1.31705309,\n",
    "        6.05932309,  4.73669345,  3.90876186, -0.58743876,  3.43133192,\n",
    "        4.58509728,  3.29263812,  5.46413892,  5.69175613,  2.74774796,\n",
    "        8.87549549, -2.42851678,  2.20941568,  6.467583  ,  2.44050376,\n",
    "        2.73896143,  3.63386775,  1.24243279,  0.47406527,  6.8532657 ,\n",
    "        6.53933656, -0.33358729,  4.42978379,  0.04601522,  3.08622839,\n",
    "        7.7646892 ,  1.69628267,  4.1266853 ,  6.17405998,  2.69589865,\n",
    "        4.67295044,  4.20596258,  4.24700724,  4.901182  ,  4.99474046,\n",
    "        6.2408699 ,  3.34185658,  4.31214292,  2.24454616,  1.49624492,\n",
    "       -0.12493726,  4.56412485,  4.62224726,  2.31248552,  1.02187432,\n",
    "        2.13037688, -0.23298465,  5.01287046,  2.29975497,  5.03353211,\n",
    "        2.78908919,  6.25035172,  3.18690199,  3.41448608,  0.68318367,\n",
    "        1.0426917 , -0.08322027,  3.18631992,  5.39412431,  1.83280823,\n",
    "        5.48173987,  0.04463488,  5.70715446,  4.74567437,  2.66512206]"
   ]
  },
  {
   "cell_type": "code",
   "execution_count": 104,
   "metadata": {},
   "outputs": [],
   "source": [
    "## XXZ, 10 qubit SPSA, 1000 points\n",
    "\n",
    "# x = [ 0.59134174,  1.77833508,  6.15307727,  0.97224229,  5.18295461,\n",
    "#         3.87446598,  2.54634569,  2.39160509,  4.22670151,  7.60375649,\n",
    "#         4.43706293, -2.19028689,  2.83785361,  0.58476969,  3.91007783,\n",
    "#         1.46608058,  3.75548438,  3.2050852 , -0.2324716 ,  4.20569331,\n",
    "#         0.44747557, -0.05655545,  1.57631918,  1.65515135,  0.32314769,\n",
    "#         6.18368274,  5.53437731,  5.45078031,  3.59205742,  4.14864355,\n",
    "#         6.04624357,  2.63395642,  0.85160589,  2.37053693,  1.24301618,\n",
    "#         2.08491361,  2.06525527,  1.07005622,  2.93735439,  6.61673426,\n",
    "#         2.96551719,  2.70170338,  2.41211006,  4.86863224,  1.11162726,\n",
    "#         5.97042287,  0.09910628,  5.84605866,  0.53470843,  2.15537269,\n",
    "#         4.28163653,  5.98519454,  3.12286189,  5.83074693,  2.20164976,\n",
    "#         4.44520995,  3.165546  ,  6.0415898 ,  5.35582743,  3.06468876,\n",
    "#         4.48554246,  5.62580235,  4.46543988,  2.914892  ,  7.019866  ,\n",
    "#        -0.14500223,  3.31575805,  1.60400157,  2.15646147,  5.9615348 ,\n",
    "#         3.0546739 ,  5.82499504,  2.22488638,  1.70663956,  4.30644405,\n",
    "#         6.64998163,  1.5827069 ,  5.66515041, -0.39784265,  0.63251041,\n",
    "#        -0.14490925,  1.77787319,  5.83851547,  5.30889564,  3.67590437,\n",
    "#         4.8743527 ,  2.07849864,  1.3314205 ,  1.06498805,  6.73240164,\n",
    "#         5.39908099,  2.14184337,  1.39862086,  3.45140637,  4.63750996,\n",
    "#         0.03935619,  0.45063615,  6.43629943,  4.65174439,  3.36627017]"
   ]
  },
  {
   "cell_type": "markdown",
   "metadata": {},
   "source": [
    "### See on test data"
   ]
  },
  {
   "cell_type": "code",
   "execution_count": 70,
   "metadata": {},
   "outputs": [
    {
     "data": {
      "text/plain": [
       "100"
      ]
     },
     "execution_count": 70,
     "metadata": {},
     "output_type": "execute_result"
    }
   ],
   "source": [
    "len(x)"
   ]
  },
  {
   "cell_type": "code",
   "execution_count": 29,
   "metadata": {},
   "outputs": [],
   "source": [
    "plt.rcParams.update({'font.size': 18})\n",
    "plt.rcParams.update({'figure.figsize': [9, 6]})"
   ]
  },
  {
   "cell_type": "code",
   "execution_count": 73,
   "metadata": {},
   "outputs": [],
   "source": [
    "#### here you can plot either both train and test data (df_vqe)\n",
    "#### or only train/test data\n",
    "\n",
    "\n",
    "NN_circ = TN.construct_circuit(np.array(x))\n",
    "preds = []\n",
    "trues = np.array(df_vqe[n_max + 2])\n",
    "result = execute(NN_circ, unitary_b).result()\n",
    "U = result.get_unitary(NN_circ)\n",
    "for i in range(len(df_vqe)):\n",
    "    state = df_vqe.iloc[i][:n_cdata]\n",
    "    preds.append(unitary_prediction(state, U))"
   ]
  },
  {
   "cell_type": "code",
   "execution_count": 78,
   "metadata": {},
   "outputs": [
    {
     "data": {
      "image/png": "[encoded data removed]",
      "text/plain": [
       "<Figure size 648x432 with 1 Axes>"
      ]
     },
     "metadata": {
      "needs_background": "light"
     },
     "output_type": "display_data"
    }
   ],
   "source": [
    "# %matplotlib inline\n",
    "# plt.rcParams.update({'font.size': 14})\n",
    "\n",
    "\n",
    "plt.figure()\n",
    "fields = np.array(df_vqe[n_max])\n",
    "plt.scatter(fields, preds)\n",
    "\n",
    "plt.xlabel('Transverse field')\n",
    "plt.ylabel('Prediction of label II')\n",
    "plt.grid()\n",
    "plt.ylim([0, 1])\n",
    "plt.xlim([0, 2])\n",
    "plt.plot([1, 1], [0, 1], 'r')\n",
    "plt.text(0.35, 0.63, 'I', fontsize=24, fontfamily='serif')\n",
    "plt.text(1.6, 0.63, 'II', fontsize=24, fontfamily='serif')\n",
    "plt.plot([0, 2], [0.5, 0.5], 'r--')\n",
    "plt.show()"
   ]
  },
  {
   "cell_type": "code",
   "execution_count": null,
   "metadata": {},
   "outputs": [],
   "source": []
  },
  {
   "cell_type": "code",
   "execution_count": 76,
   "metadata": {},
   "outputs": [
    {
     "name": "stdout",
     "output_type": "stream",
     "text": [
      "0.99\n"
     ]
    }
   ],
   "source": [
    "correct = 0\n",
    "for i, p in enumerate(preds):\n",
    "    if abs(trues[i] - p) < 0.5:\n",
    "        correct += 1\n",
    "print(correct / len(df_vqe))"
   ]
  },
  {
   "cell_type": "code",
   "execution_count": 108,
   "metadata": {},
   "outputs": [
    {
     "data": {
      "text/plain": [
       "Text(0, 0.5, 'Log loss')"
      ]
     },
     "execution_count": 108,
     "metadata": {},
     "output_type": "execute_result"
    }
   ],
   "source": [
    "plt.loglog(np.arange(len(losses)), losses)\n",
    "plt.xlabel('Epoch')\n",
    "plt.ylabel('Log loss')"
   ]
  },
  {
   "cell_type": "code",
   "execution_count": 120,
   "metadata": {},
   "outputs": [],
   "source": [
    "h_list = np.linspace(0, 2, num=81)\n",
    "\n",
    "exact_preds = []\n",
    "\n",
    "h_0 = hamiltonians.xxz_heisenberg_model(10, 1, 0)\n",
    "h_1 = hamiltonians.xxz_heisenberg_model(10, 1, 1)\n",
    "H_0 = hamiltonians.explicit_hamiltonian(h_0)\n",
    "H_1 = hamiltonians.explicit_hamiltonian(h_1)\n",
    "\n",
    "for h in h_list:\n",
    "    w, v = SPLA.eigsh(H_0 + h * H_1, which=\"SA\")\n",
    "    exact_preds.append(unitary_prediction(v[:, 0], U))"
   ]
  },
  {
   "cell_type": "code",
   "execution_count": 121,
   "metadata": {},
   "outputs": [
    {
     "data": {
      "text/plain": [
       "<matplotlib.collections.PathCollection at 0x7fe61eff5048>"
      ]
     },
     "execution_count": 121,
     "metadata": {},
     "output_type": "execute_result"
    }
   ],
   "source": [
    "plt.scatter(h_list, exact_preds)"
   ]
  },
  {
   "cell_type": "code",
   "execution_count": 142,
   "metadata": {},
   "outputs": [],
   "source": [
    "w, v = SPLA.eigsh(H_0 + 3 * H_1, which=\"SA\")\n"
   ]
  },
  {
   "cell_type": "code",
   "execution_count": 143,
   "metadata": {},
   "outputs": [
    {
     "data": {
      "text/plain": [
       "array([[0.99500417+0.09983342j, 0.        +0.j        ],\n",
       "       [0.        +0.j        , 0.99500417-0.09983342j]])"
      ]
     },
     "execution_count": 143,
     "metadata": {},
     "output_type": "execute_result"
    }
   ],
   "source": [
    "Z = np.diag([1, -1])\n",
    "theta = 0.1\n",
    "rotate = np.diag(np.exp(theta * 1j * np.array([1, -1])))\n",
    "rotate"
   ]
  },
  {
   "cell_type": "code",
   "execution_count": 144,
   "metadata": {},
   "outputs": [],
   "source": [
    "from functools import reduce\n",
    "tot_rot = reduce(np.kron, [rotate] * 10)"
   ]
  },
  {
   "cell_type": "code",
   "execution_count": 145,
   "metadata": {},
   "outputs": [],
   "source": [
    "psi = tot_rot @ v[:, 0]"
   ]
  },
  {
   "cell_type": "code",
   "execution_count": 146,
   "metadata": {},
   "outputs": [
    {
     "name": "stdout",
     "output_type": "stream",
     "text": [
      "-14.235303041071555\n",
      "-14.235303041071564\n",
      "-14.235303041071575\n",
      "-14.235303041071582\n",
      "-14.235303041071592\n",
      "-14.235303041071603\n",
      "-14.235303041071608\n",
      "-14.235303041071617\n",
      "-14.235303041071626\n",
      "-14.235303041071637\n",
      "-14.235303041071644\n",
      "-14.235303041071653\n",
      "-14.235303041071662\n",
      "-14.23530304107167\n",
      "-14.235303041071681\n",
      "-14.235303041071688\n",
      "-14.235303041071699\n",
      "-14.235303041071706\n",
      "-14.235303041071713\n",
      "-14.235303041071724\n"
     ]
    }
   ],
   "source": [
    "for i in range(20):\n",
    "    psi = tot_rot @ psi\n",
    "    print((psi.conj() @ (H_0 + 0.1 * H_1) @ psi).real)"
   ]
  },
  {
   "cell_type": "code",
   "execution_count": 131,
   "metadata": {},
   "outputs": [
    {
     "data": {
      "text/plain": [
       "-14.666520060397568"
      ]
     },
     "execution_count": 131,
     "metadata": {},
     "output_type": "execute_result"
    }
   ],
   "source": [
    "w[0]"
   ]
  },
  {
   "cell_type": "code",
   "execution_count": null,
   "metadata": {},
   "outputs": [],
   "source": []
  },
  {
   "cell_type": "code",
   "execution_count": null,
   "metadata": {},
   "outputs": [],
   "source": []
  },
  {
   "cell_type": "code",
   "execution_count": null,
   "metadata": {},
   "outputs": [],
   "source": []
  },
  {
   "cell_type": "code",
   "execution_count": null,
   "metadata": {},
   "outputs": [],
   "source": [
    "losses"
   ]
  },
  {
   "cell_type": "markdown",
   "metadata": {},
   "source": [
    "### VQE data points"
   ]
  },
  {
   "cell_type": "code",
   "execution_count": 33,
   "metadata": {},
   "outputs": [],
   "source": [
    "fields_vqe = []\n",
    "preds_vqe = []\n",
    "for i in range(len(df_vqe)):\n",
    "    full_row = list(map(float, df_vqe.iloc[i][0].split()[:-1]))\n",
    "    state_unjson = full_row[:128]\n",
    "    state = [full_row[2 * i] + 1j * full_row[2* i + 1] for i in range(64)]\n",
    "    fields_vqe.append(full_row[-2])\n",
    "    preds_vqe.append(unitary_prediction(state, U))"
   ]
  },
  {
   "cell_type": "code",
   "execution_count": 34,
   "metadata": {},
   "outputs": [
    {
     "data": {
      "image/png": "[encoded data removed]",
      "text/plain": [
       "<Figure size 432x288 with 1 Axes>"
      ]
     },
     "metadata": {
      "needs_background": "light"
     },
     "output_type": "display_data"
    }
   ],
   "source": [
    "%matplotlib inline\n",
    "plt.scatter(fields_vqe, preds_vqe)\n",
    "plt.xlabel('Transverse field')\n",
    "plt.ylabel('Prediction of label II')\n",
    "plt.grid()\n",
    "plt.ylim([0, 1])\n",
    "plt.xlim([0, 2])\n",
    "plt.plot([1, 1], [0, 1], 'r')\n",
    "#plt.plot([0, 2], [0.5, 0.5], 'r--')\n",
    "plt.text(0.35, 0.65, 'I', fontsize=24, fontfamily='serif')\n",
    "plt.text(1.6, 0.65, 'II', fontsize=24, fontfamily='serif')\n",
    "plt.show()"
   ]
  },
  {
   "cell_type": "code",
   "execution_count": null,
   "metadata": {},
   "outputs": [],
   "source": []
  },
  {
   "cell_type": "code",
   "execution_count": 14,
   "metadata": {},
   "outputs": [
    {
     "name": "stdout",
     "output_type": "stream",
     "text": [
      "CPU times: user 23.2 s, sys: 20.9 s, total: 44 s\n",
      "Wall time: 40.2 s\n"
     ]
    }
   ],
   "source": []
  },
  {
   "cell_type": "code",
   "execution_count": null,
   "metadata": {},
   "outputs": [],
   "source": [
    "grad"
   ]
  },
  {
   "cell_type": "code",
   "execution_count": null,
   "metadata": {},
   "outputs": [],
   "source": [
    "# #init params\n",
    "\n",
    "# J = 1\n",
    "# h_list = np.linspace(0.01, 1.6, num=100)\n",
    "# #h_list = [1.4]\n",
    "\n",
    "# start_vals = np.random.rand(TN.n_params) * 0.2\n",
    "\n",
    "# with open('document.csv','a') as fd:\n",
    "\n",
    "#     for h in h_list:\n",
    "#         print('''\n",
    "#         ------ h = {0:0.2f} -------\n",
    "#         '''.format(h))\n",
    "\n",
    "#         ham_dict = hamiltonians.ising_model(n_qubits, J, h)\n",
    "#         H = hamiltonians.explicit_hamiltonian(ham_dict)\n",
    "#         f = TNOptimize.build_objective_function(TN, explicit_H=H)\n",
    "\n",
    "\n",
    "#         n_iters = 0\n",
    "#         start_time = time.time()\n",
    "#         res = minimize(f, start_vals, options={'maxiter': 300}, callback=None, \n",
    "#                        tol=tol, method=method)\n",
    "#         time_spent = time.time() - start_time\n",
    "#         print('Elapsed time: {0:5.2f}'.format(time_spent))\n",
    "\n",
    "#         circ = TN.construct_circuit(res.x)\n",
    "#         state = utils.get_state(circ)\n",
    "#         print(res.fun)\n",
    "#         print(res.nit)\n",
    "#         print(res.message)\n",
    "\n",
    "#         # Warm start\n",
    "#         start_vals = res.x\n",
    "\n",
    "#         jsonized = utils.jsonize(state)\n",
    "#         flat = np.reshape(jsonized, (2**(n_qubits + 1), 1)).flatten()\n",
    "#         data_row = np.concatenate((flat, res.x))\n",
    "#         if h<0.5:\n",
    "#             state_label = \"L\"\n",
    "#         elif h>1.1:\n",
    "#             state_label = \"R\"\n",
    "#         else:\n",
    "#             state_label = \"nan\"\n",
    "#         extras = [h, res.fun]\n",
    "#         total_data = np.concatenate((data_row, extras))\n",
    "#         rowstring = np.array2string(total_data, max_line_width=5000)[2:-1]\n",
    "#         rowstring = rowstring + ' ' + state_label + \"\\n\"\n",
    "#         fd.write(rowstring)\n",
    "    "
   ]
  },
  {
   "cell_type": "code",
   "execution_count": null,
   "metadata": {},
   "outputs": [],
   "source": [
    "\n",
    "    ##### trying to implement some basic SPSA\n",
    "#         pert = 2 * c * np.random.rand(TN.n_params) - c\n",
    "#         v1 = f(x + pert)\n",
    "#         v2 = f(x - pert)\n",
    "#         grad = (v1 - v2) / (2 * np.linalg.norm(pert))     \n",
    "\n",
    "#         x = x - a * grad;\n",
    "\n",
    "#         print(f(x))"
   ]
  },
  {
   "cell_type": "code",
   "execution_count": null,
   "metadata": {},
   "outputs": [],
   "source": []
  },
  {
   "cell_type": "code",
   "execution_count": null,
   "metadata": {},
   "outputs": [],
   "source": []
  }
 ],
 "metadata": {
  "kernelspec": {
   "display_name": "Python3 (quantumenv)",
   "language": "python",
   "name": "quantumenv"
  },
  "language_info": {
   "codemirror_mode": {
    "name": "ipython",
    "version": 3
   },
   "file_extension": ".py",
   "mimetype": "text/x-python",
   "name": "python",
   "nbconvert_exporter": "python",
   "pygments_lexer": "ipython3",
   "version": "3.6.9"
  }
 },
 "nbformat": 4,
 "nbformat_minor": 2
}
