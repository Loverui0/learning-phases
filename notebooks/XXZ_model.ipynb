{
 "cells": [
  {
   "cell_type": "markdown",
   "metadata": {},
   "source": [
    "## Classifying a phase transition in the XXZ model"
   ]
  },
  {
   "cell_type": "code",
   "execution_count": 14,
   "metadata": {},
   "outputs": [],
   "source": [
    "import numpy as np\n",
    "from qiskit import QuantumRegister, ClassicalRegister, QuantumCircuit\n",
    "from qiskit import Aer, execute\n",
    "import qiskit.extensions.quantum_initializer as qeqi\n",
    "import time\n",
    "from scipy.optimize import minimize, approx_fprime\n",
    "import matplotlib.pyplot as plt\n",
    "import scipy.sparse.linalg as SPLA\n",
    "import csv\n",
    "import pandas as pd\n",
    "from functools import reduce\n",
    "from skopt import gp_minimize\n",
    "from numba import jit, njit\n",
    "from copy import copy, deepcopy\n",
    "\n",
    "import sys\n",
    "sys.path.append(\"..\")\n",
    "\n",
    "import Entangler\n",
    "import TensorNetwork\n",
    "import hamiltonians\n",
    "import TNOptimize\n",
    "import uuid\n",
    "import json\n",
    "import utils\n",
    "\n",
    "plt.rcParams.update({'font.size': 18})\n",
    "plt.rcParams.update({'figure.figsize': [9, 6]})"
   ]
  },
  {
   "cell_type": "code",
   "execution_count": 2,
   "metadata": {},
   "outputs": [],
   "source": [
    "n_qubits = 10\n",
    "depth = 4\n",
    "depth_classifier = 6\n",
    "q, c = QuantumRegister(n_qubits), ClassicalRegister(n_qubits)\n",
    "ent = Entangler.IsingEntangler()\n",
    "TN = TensorNetwork.Checkerboard(q, c, ent, depth=depth)\n",
    "# TN_UCC = TensorNetwork.UCCSD(q, c)\n",
    "TN_classifier = TensorNetwork.Checkerboard(q, c, ent, depth=depth_classifier)\n",
    "\n",
    "\n",
    "tol = 1e-6\n",
    "method = \"L-BFGS-B\"\n",
    "n_max = 2**n_qubits + 100\n",
    "n_cdata = 2**n_qubits\n",
    "sv_b = Aer.get_backend(\"statevector_simulator\")\n",
    "qasm_b = Aer.get_backend(\"qasm_simulator\")\n",
    "unitary_b = Aer.get_backend('unitary_simulator')"
   ]
  },
  {
   "cell_type": "markdown",
   "metadata": {},
   "source": [
    "### Loading the data"
   ]
  },
  {
   "cell_type": "markdown",
   "metadata": {},
   "source": [
    "The data set contains the rows where first 1024 entries are the wavefunction, next 100 are the parameters, then the Jz parameter, energy, and label"
   ]
  },
  {
   "cell_type": "code",
   "execution_count": 3,
   "metadata": {},
   "outputs": [],
   "source": [
    "small_data = \"vqe_2019-04-30_10-30-02.csv\"\n",
    "bigger_data = \"vqe_2019-05-06_16-16-53.csv\"\n",
    "gpu_data = \"vqe_GPU_2019-05-28_13-28-07.csv\"\n",
    "filename = bigger_data\n",
    "\n",
    "\n",
    "df_vqe_2 = pd.read_csv(filename, header=None)\n",
    "df_vqe_2 = df_vqe_2.applymap(lambda x: np.complex(x))\n",
    "\n",
    "df_vqe_2[n_max] = df_vqe_2[n_max].apply(lambda x: x.real)\n",
    "df_vqe_2[n_max+1] = df_vqe_2[n_max+1].apply(lambda x: x.real)\n",
    "df_vqe_2[n_max+2] = df_vqe_2[n_max+2].apply(lambda x: x.real)\n",
    "\n",
    "# df_vqe = df_vqe_2.drop([0, 1])\n",
    "df_vqe = df_vqe_2"
   ]
  },
  {
   "cell_type": "markdown",
   "metadata": {},
   "source": [
    "### Cleaning the data"
   ]
  },
  {
   "cell_type": "code",
   "execution_count": 4,
   "metadata": {},
   "outputs": [
    {
     "name": "stdout",
     "output_type": "stream",
     "text": [
      "     1124       1125\n",
      "0   0.000 -12.437153\n",
      "1   0.000 -12.436953\n",
      "2   0.002 -12.444505\n",
      "3   0.002 -12.444670\n",
      "4   0.004 -12.452185\n",
      "5   0.004 -12.452063\n",
      "6   0.006 -12.459702\n",
      "7   0.006 -12.459627\n",
      "8   0.008 -12.467196\n",
      "9   0.008 -12.467222\n",
      "10  0.010 -12.474770\n",
      "11  0.010 -12.474745\n",
      "12  0.012 -12.482349\n",
      "13  0.012 -12.482272\n",
      "14  0.014 -12.489932\n",
      "15  0.014 -12.489803\n",
      "16  0.016 -12.497519\n",
      "17  0.016 -12.497337\n",
      "18  0.018 -12.504877\n",
      "19  0.018 -12.505016\n",
      "[1, 2, 5, 7, 8, 11, 13, 15, 17, 18]\n",
      "[0, 3, 4, 6, 9, 10, 12, 14, 16, 19]\n",
      "=============\n",
      "     1124       1125\n",
      "0   0.000 -12.437153\n",
      "3   0.002 -12.444670\n",
      "4   0.004 -12.452185\n",
      "6   0.006 -12.459702\n",
      "9   0.008 -12.467222\n",
      "10  0.010 -12.474770\n",
      "12  0.012 -12.482349\n",
      "14  0.014 -12.489932\n",
      "16  0.016 -12.497519\n",
      "19  0.018 -12.505016\n"
     ]
    }
   ],
   "source": [
    "df_vqe_clean = df_vqe.sort_values(by=[n_max])\n",
    "df_vqe_clean.index = np.arange(len(df_vqe))\n",
    "# df_vqe_clean = df_vqe.sort_index(by=[n_max])\n",
    "\n",
    "todrop = []\n",
    "tokeep = []\n",
    "for i in range(len(df_vqe) // 2):\n",
    "    E_1 = df_vqe_clean.iloc[i * 2, n_max + 1]\n",
    "    E_2 = df_vqe_clean.iloc[i * 2 + 1, n_max + 1]\n",
    "    h_1 = df_vqe_clean.iloc[i * 2, n_max]\n",
    "    h_2 = df_vqe_clean.iloc[i * 2 + 1, n_max]\n",
    "#     print(h_1, h_2)\n",
    "#     print(E_1, E_2)\n",
    "#     print(\"====\")\n",
    "    if (E_2 > E_1):\n",
    "        todrop.append(i * 2 + 1)\n",
    "        tokeep.append(i * 2)\n",
    "    else:\n",
    "        todrop.append(i * 2)\n",
    "        tokeep.append(i * 2 + 1)\n",
    "\n",
    "        \n",
    "for i in range(len(df_vqe) // 2):\n",
    "    E_kept = df_vqe_clean.iloc[tokeep[i], n_max + 1]\n",
    "    E_dropped = df_vqe_clean.iloc[todrop[i], n_max + 1]\n",
    "    if E_dropped < E_kept:\n",
    "        print(\"AAA\")\n",
    "\n",
    "print(df_vqe_clean.iloc[:20, [n_max, n_max + 1]])\n",
    "\n",
    "print(todrop[:10])\n",
    "print(tokeep[:10])\n",
    "\n",
    "print(\"=============\")        \n",
    "        \n",
    "df_vqe_clean = df_vqe_clean.drop(todrop)\n",
    "print(df_vqe_clean.iloc[:10, [n_max, n_max + 1]])"
   ]
  },
  {
   "cell_type": "code",
   "execution_count": 5,
   "metadata": {},
   "outputs": [
    {
     "data": {
      "text/plain": [
       "1000"
      ]
     },
     "execution_count": 5,
     "metadata": {},
     "output_type": "execute_result"
    }
   ],
   "source": [
    "len(df_vqe_clean)"
   ]
  },
  {
   "cell_type": "markdown",
   "metadata": {},
   "source": [
    "### Augmenting the data"
   ]
  },
  {
   "cell_type": "markdown",
   "metadata": {},
   "source": [
    "#### Flips\n",
    "\n",
    "First I am going to flip the spins along the X direction. Then for each of the data points I will also add a random Z rotation."
   ]
  },
  {
   "cell_type": "code",
   "execution_count": 6,
   "metadata": {},
   "outputs": [],
   "source": [
    "df_flip = df_vqe_clean.copy()\n",
    "# df_flip = df_vqe.copy()\n",
    "df_flip.index = np.arange(len(df_flip))\n"
   ]
  },
  {
   "cell_type": "code",
   "execution_count": 7,
   "metadata": {},
   "outputs": [],
   "source": [
    "## hardcoded for 10 qubits and depth 4\n",
    "z_gate_indices = [74 + i * 5 + k for i in range(5) for k in (4, 5)]\n",
    "x_gate_indices = [74 + i * 5 + k for i in range(5) for k in (1, 2)]"
   ]
  },
  {
   "cell_type": "code",
   "execution_count": 8,
   "metadata": {},
   "outputs": [],
   "source": [
    "for n in z_gate_indices:\n",
    "    df_flip[2**n_qubits + n] *= -1\n",
    "\n",
    "for n in x_gate_indices:\n",
    "    df_flip[2**n_qubits + n] += np.pi"
   ]
  },
  {
   "cell_type": "code",
   "execution_count": 9,
   "metadata": {},
   "outputs": [],
   "source": [
    "wavefun_cols_order = list(reversed(range(1024)))\n",
    "cols_order = wavefun_cols_order + list(range(1024, n_max + 3))\n",
    "df_flip = df_flip.reindex(columns=cols_order)"
   ]
  },
  {
   "cell_type": "markdown",
   "metadata": {},
   "source": [
    "To check the correctness of the flip operation, I will now check that the wavefunction, ansatz parameters and the energy are consistent"
   ]
  },
  {
   "cell_type": "code",
   "execution_count": 10,
   "metadata": {},
   "outputs": [
    {
     "name": "stderr",
     "output_type": "stream",
     "text": [
      "/home/alexey/quantumenv/lib/python3.6/site-packages/marshmallow/schema.py:364: ChangedInMarshmallow3Warning: strict=False is not recommended. In marshmallow 3.0, schemas will always be strict. See https://marshmallow.readthedocs.io/en/latest/upgrading.html#schemas-are-always-strict\n",
      "  ChangedInMarshmallow3Warning\n",
      "/home/alexey/quantumenv/lib/python3.6/site-packages/marshmallow/schema.py:364: ChangedInMarshmallow3Warning: strict=False is not recommended. In marshmallow 3.0, schemas will always be strict. See https://marshmallow.readthedocs.io/en/latest/upgrading.html#schemas-are-always-strict\n",
      "  ChangedInMarshmallow3Warning\n",
      "/home/alexey/quantumenv/lib/python3.6/site-packages/marshmallow/schema.py:364: ChangedInMarshmallow3Warning: strict=False is not recommended. In marshmallow 3.0, schemas will always be strict. See https://marshmallow.readthedocs.io/en/latest/upgrading.html#schemas-are-always-strict\n",
      "  ChangedInMarshmallow3Warning\n",
      "/home/alexey/quantumenv/lib/python3.6/site-packages/marshmallow/schema.py:364: ChangedInMarshmallow3Warning: strict=False is not recommended. In marshmallow 3.0, schemas will always be strict. See https://marshmallow.readthedocs.io/en/latest/upgrading.html#schemas-are-always-strict\n",
      "  ChangedInMarshmallow3Warning\n",
      "/home/alexey/quantumenv/lib/python3.6/site-packages/marshmallow/schema.py:364: ChangedInMarshmallow3Warning: strict=False is not recommended. In marshmallow 3.0, schemas will always be strict. See https://marshmallow.readthedocs.io/en/latest/upgrading.html#schemas-are-always-strict\n",
      "  ChangedInMarshmallow3Warning\n",
      "/home/alexey/quantumenv/lib/python3.6/site-packages/marshmallow/schema.py:364: ChangedInMarshmallow3Warning: strict=False is not recommended. In marshmallow 3.0, schemas will always be strict. See https://marshmallow.readthedocs.io/en/latest/upgrading.html#schemas-are-always-strict\n",
      "  ChangedInMarshmallow3Warning\n",
      "/home/alexey/quantumenv/lib/python3.6/site-packages/marshmallow/schema.py:364: ChangedInMarshmallow3Warning: strict=False is not recommended. In marshmallow 3.0, schemas will always be strict. See https://marshmallow.readthedocs.io/en/latest/upgrading.html#schemas-are-always-strict\n",
      "  ChangedInMarshmallow3Warning\n",
      "Process Process-2:\n",
      "Process Process-6:\n",
      "Process Process-1:\n",
      "Process Process-5:\n",
      "Process Process-4:\n",
      "Process Process-3:\n",
      "Traceback (most recent call last):\n",
      "Traceback (most recent call last):\n",
      "Traceback (most recent call last):\n",
      "Traceback (most recent call last):\n",
      "  File \"/usr/lib/python3.6/multiprocessing/process.py\", line 93, in run\n",
      "    self._target(*self._args, **self._kwargs)\n",
      "  File \"/usr/lib/python3.6/multiprocessing/process.py\", line 258, in _bootstrap\n",
      "    self.run()\n",
      "  File \"/usr/lib/python3.6/multiprocessing/process.py\", line 258, in _bootstrap\n",
      "    self.run()\n",
      "Traceback (most recent call last):\n",
      "  File \"/usr/lib/python3.6/multiprocessing/process.py\", line 258, in _bootstrap\n",
      "    self.run()\n",
      "  File \"/usr/lib/python3.6/multiprocessing/process.py\", line 258, in _bootstrap\n",
      "    self.run()\n",
      "  File \"/usr/lib/python3.6/multiprocessing/process.py\", line 258, in _bootstrap\n",
      "    self.run()\n",
      "  File \"/usr/lib/python3.6/concurrent/futures/process.py\", line 169, in _process_worker\n",
      "    call_item = call_queue.get(block=True)\n",
      "  File \"/usr/lib/python3.6/multiprocessing/process.py\", line 93, in run\n",
      "    self._target(*self._args, **self._kwargs)\n",
      "  File \"/usr/lib/python3.6/multiprocessing/process.py\", line 93, in run\n",
      "    self._target(*self._args, **self._kwargs)\n",
      "  File \"/usr/lib/python3.6/multiprocessing/queues.py\", line 93, in get\n",
      "    with self._rlock:\n",
      "  File \"/usr/lib/python3.6/multiprocessing/process.py\", line 93, in run\n",
      "    self._target(*self._args, **self._kwargs)\n",
      "  File \"/usr/lib/python3.6/multiprocessing/process.py\", line 93, in run\n",
      "    self._target(*self._args, **self._kwargs)\n",
      "  File \"/usr/lib/python3.6/concurrent/futures/process.py\", line 169, in _process_worker\n",
      "    call_item = call_queue.get(block=True)\n",
      "  File \"/usr/lib/python3.6/multiprocessing/synchronize.py\", line 95, in __enter__\n",
      "    return self._semlock.__enter__()\n",
      "  File \"/usr/lib/python3.6/concurrent/futures/process.py\", line 169, in _process_worker\n",
      "    call_item = call_queue.get(block=True)\n",
      "  File \"/usr/lib/python3.6/concurrent/futures/process.py\", line 169, in _process_worker\n",
      "    call_item = call_queue.get(block=True)\n",
      "  File \"/usr/lib/python3.6/concurrent/futures/process.py\", line 169, in _process_worker\n",
      "    call_item = call_queue.get(block=True)\n",
      "  File \"/usr/lib/python3.6/multiprocessing/queues.py\", line 93, in get\n",
      "    with self._rlock:\n",
      "  File \"/usr/lib/python3.6/multiprocessing/queues.py\", line 93, in get\n",
      "    with self._rlock:\n",
      "  File \"/usr/lib/python3.6/multiprocessing/synchronize.py\", line 95, in __enter__\n",
      "    return self._semlock.__enter__()\n",
      "  File \"/usr/lib/python3.6/multiprocessing/queues.py\", line 93, in get\n",
      "    with self._rlock:\n",
      "  File \"/usr/lib/python3.6/multiprocessing/synchronize.py\", line 95, in __enter__\n",
      "    return self._semlock.__enter__()\n",
      "  File \"/usr/lib/python3.6/multiprocessing/queues.py\", line 93, in get\n",
      "    with self._rlock:\n",
      "  File \"/usr/lib/python3.6/multiprocessing/synchronize.py\", line 95, in __enter__\n",
      "    return self._semlock.__enter__()\n",
      "KeyboardInterrupt\n",
      "  File \"/usr/lib/python3.6/multiprocessing/synchronize.py\", line 95, in __enter__\n",
      "    return self._semlock.__enter__()\n",
      "KeyboardInterrupt\n",
      "KeyboardInterrupt\n",
      "Traceback (most recent call last):\n",
      "KeyboardInterrupt\n"
     ]
    },
    {
     "ename": "KeyboardInterrupt",
     "evalue": "",
     "output_type": "error",
     "traceback": [
      "\u001b[0;31m---------------------------------------------------------------------------\u001b[0m",
      "\u001b[0;31mKeyboardInterrupt\u001b[0m                         Traceback (most recent call last)",
      "\u001b[0;32m<ipython-input-10-bd189052c06a>\u001b[0m in \u001b[0;36m<module>\u001b[0;34m\u001b[0m\n\u001b[1;32m     21\u001b[0m     \u001b[0mparams\u001b[0m \u001b[0;34m=\u001b[0m \u001b[0mnp\u001b[0m\u001b[0;34m.\u001b[0m\u001b[0marray\u001b[0m\u001b[0;34m(\u001b[0m\u001b[0mrow\u001b[0m\u001b[0;34m[\u001b[0m\u001b[0;36m2\u001b[0m\u001b[0;34m**\u001b[0m\u001b[0mn_qubits\u001b[0m \u001b[0;34m:\u001b[0m \u001b[0;36m2\u001b[0m\u001b[0;34m**\u001b[0m\u001b[0mn_qubits\u001b[0m \u001b[0;34m+\u001b[0m \u001b[0;36m100\u001b[0m\u001b[0;34m]\u001b[0m\u001b[0;34m)\u001b[0m\u001b[0;34m\u001b[0m\u001b[0;34m\u001b[0m\u001b[0m\n\u001b[1;32m     22\u001b[0m     \u001b[0mcirc\u001b[0m \u001b[0;34m=\u001b[0m \u001b[0mTN\u001b[0m\u001b[0;34m.\u001b[0m\u001b[0mconstruct_circuit\u001b[0m\u001b[0;34m(\u001b[0m\u001b[0mparams\u001b[0m\u001b[0;34m)\u001b[0m\u001b[0;34m\u001b[0m\u001b[0;34m\u001b[0m\u001b[0m\n\u001b[0;32m---> 23\u001b[0;31m     \u001b[0mstate_built\u001b[0m \u001b[0;34m=\u001b[0m \u001b[0mutils\u001b[0m\u001b[0;34m.\u001b[0m\u001b[0mget_state\u001b[0m\u001b[0;34m(\u001b[0m\u001b[0mcirc\u001b[0m\u001b[0;34m)\u001b[0m\u001b[0;34m\u001b[0m\u001b[0;34m\u001b[0m\u001b[0m\n\u001b[0m\u001b[1;32m     24\u001b[0m \u001b[0;31m#     print(abs(state_built.conj() @ state))\u001b[0m\u001b[0;34m\u001b[0m\u001b[0;34m\u001b[0m\u001b[0;34m\u001b[0m\u001b[0m\n\u001b[1;32m     25\u001b[0m \u001b[0;31m#     print(np.linalg.norm(state))\u001b[0m\u001b[0;34m\u001b[0m\u001b[0;34m\u001b[0m\u001b[0;34m\u001b[0m\u001b[0m\n",
      "\u001b[0;32m~/Документы/work/VQE_repo/tensor_network_vqe/utils.py\u001b[0m in \u001b[0;36mget_state\u001b[0;34m(circ)\u001b[0m\n\u001b[1;32m     16\u001b[0m \u001b[0;34m\u001b[0m\u001b[0m\n\u001b[1;32m     17\u001b[0m \u001b[0;32mdef\u001b[0m \u001b[0mget_state\u001b[0m\u001b[0;34m(\u001b[0m\u001b[0mcirc\u001b[0m\u001b[0;34m)\u001b[0m\u001b[0;34m:\u001b[0m\u001b[0;34m\u001b[0m\u001b[0;34m\u001b[0m\u001b[0m\n\u001b[0;32m---> 18\u001b[0;31m     \u001b[0mjob\u001b[0m \u001b[0;34m=\u001b[0m \u001b[0mexecute\u001b[0m\u001b[0;34m(\u001b[0m\u001b[0mcirc\u001b[0m\u001b[0;34m,\u001b[0m \u001b[0msv_backend\u001b[0m\u001b[0;34m)\u001b[0m\u001b[0;34m\u001b[0m\u001b[0;34m\u001b[0m\u001b[0m\n\u001b[0m\u001b[1;32m     19\u001b[0m     \u001b[0mresult\u001b[0m \u001b[0;34m=\u001b[0m \u001b[0mjob\u001b[0m\u001b[0;34m.\u001b[0m\u001b[0mresult\u001b[0m\u001b[0;34m(\u001b[0m\u001b[0;34m)\u001b[0m\u001b[0;34m\u001b[0m\u001b[0;34m\u001b[0m\u001b[0m\n\u001b[1;32m     20\u001b[0m     \u001b[0mstate\u001b[0m \u001b[0;34m=\u001b[0m \u001b[0mresult\u001b[0m\u001b[0;34m.\u001b[0m\u001b[0mget_statevector\u001b[0m\u001b[0;34m(\u001b[0m\u001b[0mcirc\u001b[0m\u001b[0;34m)\u001b[0m\u001b[0;34m\u001b[0m\u001b[0;34m\u001b[0m\u001b[0m\n",
      "\u001b[0;32m~/quantumenv/lib/python3.6/site-packages/qiskit/tools/compiler.py\u001b[0m in \u001b[0;36mexecute\u001b[0;34m(circuits, backend, config, basis_gates, coupling_map, initial_layout, shots, max_credits, seed, qobj_id, skip_transpiler, seed_mapper, pass_manager, memory, **kwargs)\u001b[0m\n\u001b[1;32m    106\u001b[0m                    \u001b[0mconfig\u001b[0m\u001b[0;34m,\u001b[0m \u001b[0mbasis_gates\u001b[0m\u001b[0;34m,\u001b[0m \u001b[0mcoupling_map\u001b[0m\u001b[0;34m,\u001b[0m \u001b[0minitial_layout\u001b[0m\u001b[0;34m,\u001b[0m\u001b[0;34m\u001b[0m\u001b[0;34m\u001b[0m\u001b[0m\n\u001b[1;32m    107\u001b[0m                    \u001b[0mshots\u001b[0m\u001b[0;34m,\u001b[0m \u001b[0mmax_credits\u001b[0m\u001b[0;34m,\u001b[0m \u001b[0mseed\u001b[0m\u001b[0;34m,\u001b[0m \u001b[0mqobj_id\u001b[0m\u001b[0;34m,\u001b[0m\u001b[0;34m\u001b[0m\u001b[0;34m\u001b[0m\u001b[0m\n\u001b[0;32m--> 108\u001b[0;31m                    skip_transpiler, seed_mapper, pass_manager, memory)\n\u001b[0m\u001b[1;32m    109\u001b[0m \u001b[0;34m\u001b[0m\u001b[0m\n\u001b[1;32m    110\u001b[0m     \u001b[0;32mreturn\u001b[0m \u001b[0mbackend\u001b[0m\u001b[0;34m.\u001b[0m\u001b[0mrun\u001b[0m\u001b[0;34m(\u001b[0m\u001b[0mqobj\u001b[0m\u001b[0;34m,\u001b[0m \u001b[0;34m**\u001b[0m\u001b[0mkwargs\u001b[0m\u001b[0;34m)\u001b[0m\u001b[0;34m\u001b[0m\u001b[0;34m\u001b[0m\u001b[0m\n",
      "\u001b[0;32m~/quantumenv/lib/python3.6/site-packages/qiskit/tools/compiler.py\u001b[0m in \u001b[0;36mcompile\u001b[0;34m(circuits, backend, config, basis_gates, coupling_map, initial_layout, shots, max_credits, seed, qobj_id, skip_transpiler, seed_mapper, pass_manager, memory)\u001b[0m\n\u001b[1;32m     59\u001b[0m \u001b[0;34m\u001b[0m\u001b[0m\n\u001b[1;32m     60\u001b[0m     circuits = transpiler.transpile(circuits, backend, basis_gates, coupling_map, initial_layout,\n\u001b[0;32m---> 61\u001b[0;31m                                     seed_mapper, pass_manager)\n\u001b[0m\u001b[1;32m     62\u001b[0m \u001b[0;34m\u001b[0m\u001b[0m\n\u001b[1;32m     63\u001b[0m     \u001b[0;31m# step 4: Making a qobj\u001b[0m\u001b[0;34m\u001b[0m\u001b[0;34m\u001b[0m\u001b[0;34m\u001b[0m\u001b[0m\n",
      "\u001b[0;32m~/quantumenv/lib/python3.6/site-packages/qiskit/transpiler/_transpiler.py\u001b[0m in \u001b[0;36mtranspile\u001b[0;34m(circuits, backend, basis_gates, coupling_map, initial_layout, seed_mapper, pass_manager)\u001b[0m\n\u001b[1;32m     65\u001b[0m                                          \u001b[0;34m'initial_layout'\u001b[0m\u001b[0;34m:\u001b[0m \u001b[0minitial_layout\u001b[0m\u001b[0;34m,\u001b[0m\u001b[0;34m\u001b[0m\u001b[0;34m\u001b[0m\u001b[0m\n\u001b[1;32m     66\u001b[0m                                          \u001b[0;34m'seed_mapper'\u001b[0m\u001b[0;34m:\u001b[0m \u001b[0mseed_mapper\u001b[0m\u001b[0;34m,\u001b[0m\u001b[0;34m\u001b[0m\u001b[0;34m\u001b[0m\u001b[0m\n\u001b[0;32m---> 67\u001b[0;31m                                          'pass_manager': pass_manager})\n\u001b[0m\u001b[1;32m     68\u001b[0m     \u001b[0;32mif\u001b[0m \u001b[0mreturn_form_is_single\u001b[0m\u001b[0;34m:\u001b[0m\u001b[0;34m\u001b[0m\u001b[0;34m\u001b[0m\u001b[0m\n\u001b[1;32m     69\u001b[0m         \u001b[0;32mreturn\u001b[0m \u001b[0mcircuits\u001b[0m\u001b[0;34m[\u001b[0m\u001b[0;36m0\u001b[0m\u001b[0;34m]\u001b[0m\u001b[0;34m\u001b[0m\u001b[0;34m\u001b[0m\u001b[0m\n",
      "\u001b[0;32m~/quantumenv/lib/python3.6/site-packages/qiskit/tools/parallel.py\u001b[0m in \u001b[0;36mparallel_map\u001b[0;34m(task, values, task_args, task_kwargs, num_processes)\u001b[0m\n\u001b[1;32m     91\u001b[0m     \"\"\"\n\u001b[1;32m     92\u001b[0m     \u001b[0;32mif\u001b[0m \u001b[0mlen\u001b[0m\u001b[0;34m(\u001b[0m\u001b[0mvalues\u001b[0m\u001b[0;34m)\u001b[0m \u001b[0;34m==\u001b[0m \u001b[0;36m1\u001b[0m\u001b[0;34m:\u001b[0m\u001b[0;34m\u001b[0m\u001b[0;34m\u001b[0m\u001b[0m\n\u001b[0;32m---> 93\u001b[0;31m         \u001b[0;32mreturn\u001b[0m \u001b[0;34m[\u001b[0m\u001b[0mtask\u001b[0m\u001b[0;34m(\u001b[0m\u001b[0mvalues\u001b[0m\u001b[0;34m[\u001b[0m\u001b[0;36m0\u001b[0m\u001b[0;34m]\u001b[0m\u001b[0;34m,\u001b[0m \u001b[0;34m*\u001b[0m\u001b[0mtask_args\u001b[0m\u001b[0;34m,\u001b[0m \u001b[0;34m**\u001b[0m\u001b[0mtask_kwargs\u001b[0m\u001b[0;34m)\u001b[0m\u001b[0;34m]\u001b[0m\u001b[0;34m\u001b[0m\u001b[0;34m\u001b[0m\u001b[0m\n\u001b[0m\u001b[1;32m     94\u001b[0m \u001b[0;34m\u001b[0m\u001b[0m\n\u001b[1;32m     95\u001b[0m     \u001b[0mPublisher\u001b[0m\u001b[0;34m(\u001b[0m\u001b[0;34m)\u001b[0m\u001b[0;34m.\u001b[0m\u001b[0mpublish\u001b[0m\u001b[0;34m(\u001b[0m\u001b[0;34m\"terra.parallel.start\"\u001b[0m\u001b[0;34m,\u001b[0m \u001b[0mlen\u001b[0m\u001b[0;34m(\u001b[0m\u001b[0mvalues\u001b[0m\u001b[0;34m)\u001b[0m\u001b[0;34m)\u001b[0m\u001b[0;34m\u001b[0m\u001b[0;34m\u001b[0m\u001b[0m\n",
      "\u001b[0;32m~/quantumenv/lib/python3.6/site-packages/qiskit/transpiler/_transpiler.py\u001b[0m in \u001b[0;36m_transpilation\u001b[0;34m(circuit, backend, basis_gates, coupling_map, initial_layout, seed_mapper, pass_manager)\u001b[0m\n\u001b[1;32m     94\u001b[0m         \u001b[0;32mreturn\u001b[0m \u001b[0mcircuit\u001b[0m\u001b[0;34m\u001b[0m\u001b[0;34m\u001b[0m\u001b[0m\n\u001b[1;32m     95\u001b[0m \u001b[0;34m\u001b[0m\u001b[0m\n\u001b[0;32m---> 96\u001b[0;31m     \u001b[0mdag\u001b[0m \u001b[0;34m=\u001b[0m \u001b[0mcircuit_to_dag\u001b[0m\u001b[0;34m(\u001b[0m\u001b[0mcircuit\u001b[0m\u001b[0;34m)\u001b[0m\u001b[0;34m\u001b[0m\u001b[0;34m\u001b[0m\u001b[0m\n\u001b[0m\u001b[1;32m     97\u001b[0m     \u001b[0;32mif\u001b[0m \u001b[0;32mnot\u001b[0m \u001b[0mbackend\u001b[0m \u001b[0;32mand\u001b[0m \u001b[0;32mnot\u001b[0m \u001b[0minitial_layout\u001b[0m\u001b[0;34m:\u001b[0m\u001b[0;34m\u001b[0m\u001b[0;34m\u001b[0m\u001b[0m\n\u001b[1;32m     98\u001b[0m         raise TranspilerError('initial layout not supplied, and cannot '\n",
      "\u001b[0;32m~/quantumenv/lib/python3.6/site-packages/qiskit/converters/circuit_to_dag.py\u001b[0m in \u001b[0;36mcircuit_to_dag\u001b[0;34m(circuit)\u001b[0m\n\u001b[1;32m     83\u001b[0m             \u001b[0minst\u001b[0m \u001b[0;34m=\u001b[0m \u001b[0mduplicate_instruction\u001b[0m\u001b[0;34m(\u001b[0m\u001b[0minstruction\u001b[0m\u001b[0;34m)\u001b[0m\u001b[0;34m\u001b[0m\u001b[0;34m\u001b[0m\u001b[0m\n\u001b[1;32m     84\u001b[0m             dagcircuit.apply_operation_back(inst, inst.qargs,\n\u001b[0;32m---> 85\u001b[0;31m                                             inst.cargs, control)\n\u001b[0m\u001b[1;32m     86\u001b[0m \u001b[0;34m\u001b[0m\u001b[0m\n\u001b[1;32m     87\u001b[0m     \u001b[0;32mreturn\u001b[0m \u001b[0mdagcircuit\u001b[0m\u001b[0;34m\u001b[0m\u001b[0;34m\u001b[0m\u001b[0m\n",
      "\u001b[0;32m~/quantumenv/lib/python3.6/site-packages/qiskit/dagcircuit/_dagcircuit.py\u001b[0m in \u001b[0;36mapply_operation_back\u001b[0;34m(self, op, qargs, cargs, condition)\u001b[0m\n\u001b[1;32m    364\u001b[0m         \u001b[0mself\u001b[0m\u001b[0;34m.\u001b[0m\u001b[0m_check_basis_data\u001b[0m\u001b[0;34m(\u001b[0m\u001b[0mop\u001b[0m\u001b[0;34m,\u001b[0m \u001b[0mqargs\u001b[0m\u001b[0;34m,\u001b[0m \u001b[0mcargs\u001b[0m\u001b[0;34m)\u001b[0m\u001b[0;34m\u001b[0m\u001b[0;34m\u001b[0m\u001b[0m\n\u001b[1;32m    365\u001b[0m         \u001b[0mself\u001b[0m\u001b[0;34m.\u001b[0m\u001b[0m_check_condition\u001b[0m\u001b[0;34m(\u001b[0m\u001b[0mop\u001b[0m\u001b[0;34m.\u001b[0m\u001b[0mname\u001b[0m\u001b[0;34m,\u001b[0m \u001b[0mcondition\u001b[0m\u001b[0;34m)\u001b[0m\u001b[0;34m\u001b[0m\u001b[0;34m\u001b[0m\u001b[0m\n\u001b[0;32m--> 366\u001b[0;31m         \u001b[0mself\u001b[0m\u001b[0;34m.\u001b[0m\u001b[0m_check_bits\u001b[0m\u001b[0;34m(\u001b[0m\u001b[0mqargs\u001b[0m\u001b[0;34m,\u001b[0m \u001b[0mself\u001b[0m\u001b[0;34m.\u001b[0m\u001b[0moutput_map\u001b[0m\u001b[0;34m)\u001b[0m\u001b[0;34m\u001b[0m\u001b[0;34m\u001b[0m\u001b[0m\n\u001b[0m\u001b[1;32m    367\u001b[0m         \u001b[0mself\u001b[0m\u001b[0;34m.\u001b[0m\u001b[0m_check_bits\u001b[0m\u001b[0;34m(\u001b[0m\u001b[0mall_cbits\u001b[0m\u001b[0;34m,\u001b[0m \u001b[0mself\u001b[0m\u001b[0;34m.\u001b[0m\u001b[0moutput_map\u001b[0m\u001b[0;34m)\u001b[0m\u001b[0;34m\u001b[0m\u001b[0;34m\u001b[0m\u001b[0m\n\u001b[1;32m    368\u001b[0m \u001b[0;34m\u001b[0m\u001b[0m\n",
      "\u001b[0;32m~/quantumenv/lib/python3.6/site-packages/qiskit/dagcircuit/_dagcircuit.py\u001b[0m in \u001b[0;36m_check_bits\u001b[0;34m(self, args, amap)\u001b[0m\n\u001b[1;32m    304\u001b[0m         \u001b[0;31m# Check for each wire\u001b[0m\u001b[0;34m\u001b[0m\u001b[0;34m\u001b[0m\u001b[0;34m\u001b[0m\u001b[0m\n\u001b[1;32m    305\u001b[0m         \u001b[0;32mfor\u001b[0m \u001b[0mwire\u001b[0m \u001b[0;32min\u001b[0m \u001b[0margs\u001b[0m\u001b[0;34m:\u001b[0m\u001b[0;34m\u001b[0m\u001b[0;34m\u001b[0m\u001b[0m\n\u001b[0;32m--> 306\u001b[0;31m             \u001b[0;32mif\u001b[0m \u001b[0mwire\u001b[0m \u001b[0;32mnot\u001b[0m \u001b[0;32min\u001b[0m \u001b[0mamap\u001b[0m\u001b[0;34m:\u001b[0m\u001b[0;34m\u001b[0m\u001b[0;34m\u001b[0m\u001b[0m\n\u001b[0m\u001b[1;32m    307\u001b[0m                 \u001b[0;32mraise\u001b[0m \u001b[0mDAGCircuitError\u001b[0m\u001b[0;34m(\u001b[0m\u001b[0;34m\"(qu)bit %s not found\"\u001b[0m \u001b[0;34m%\u001b[0m \u001b[0;34m(\u001b[0m\u001b[0mwire\u001b[0m\u001b[0;34m,\u001b[0m\u001b[0;34m)\u001b[0m\u001b[0;34m)\u001b[0m\u001b[0;34m\u001b[0m\u001b[0;34m\u001b[0m\u001b[0m\n\u001b[1;32m    308\u001b[0m \u001b[0;34m\u001b[0m\u001b[0m\n",
      "\u001b[0;32m~/quantumenv/lib/python3.6/site-packages/qiskit/circuit/register.py\u001b[0m in \u001b[0;36m__hash__\u001b[0;34m(self)\u001b[0m\n\u001b[1;32m    105\u001b[0m     \u001b[0;32mdef\u001b[0m \u001b[0m__hash__\u001b[0m\u001b[0;34m(\u001b[0m\u001b[0mself\u001b[0m\u001b[0;34m)\u001b[0m\u001b[0;34m:\u001b[0m\u001b[0;34m\u001b[0m\u001b[0;34m\u001b[0m\u001b[0m\n\u001b[1;32m    106\u001b[0m         \u001b[0;34m\"\"\"Make object hashable, based on the name and size to hash.\"\"\"\u001b[0m\u001b[0;34m\u001b[0m\u001b[0;34m\u001b[0m\u001b[0m\n\u001b[0;32m--> 107\u001b[0;31m         \u001b[0;32mreturn\u001b[0m \u001b[0mhash\u001b[0m\u001b[0;34m(\u001b[0m\u001b[0mstr\u001b[0m\u001b[0;34m(\u001b[0m\u001b[0mtype\u001b[0m\u001b[0;34m(\u001b[0m\u001b[0mself\u001b[0m\u001b[0;34m)\u001b[0m\u001b[0;34m)\u001b[0m \u001b[0;34m+\u001b[0m \u001b[0mself\u001b[0m\u001b[0;34m.\u001b[0m\u001b[0mname\u001b[0m \u001b[0;34m+\u001b[0m \u001b[0mstr\u001b[0m\u001b[0;34m(\u001b[0m\u001b[0mself\u001b[0m\u001b[0;34m.\u001b[0m\u001b[0msize\u001b[0m\u001b[0;34m)\u001b[0m\u001b[0;34m)\u001b[0m\u001b[0;34m\u001b[0m\u001b[0;34m\u001b[0m\u001b[0m\n\u001b[0m",
      "\u001b[0;31mKeyboardInterrupt\u001b[0m: "
     ]
    }
   ],
   "source": [
    "h_0 = hamiltonians.xxz_heisenberg_model(10, 1, 0)\n",
    "h_1 = hamiltonians.xxz_heisenberg_model(10, 0, 1)\n",
    "H_0 = hamiltonians.explicit_hamiltonian(h_0)\n",
    "H_1 = hamiltonians.explicit_hamiltonian(h_1)\n",
    "\n",
    "energy_off = False\n",
    "statebuilding_error = False\n",
    "\n",
    "for i, row in df_flip.iterrows():\n",
    "#     if i>5:\n",
    "#         break\n",
    "        \n",
    "    state = np.array(row[:2**n_qubits])\n",
    "    E = row[n_max + 1].real\n",
    "    h = row[n_max].real\n",
    "    E_fact = (state.conj() @ (H_0 + h * H_1) @ state).real\n",
    "    if not(np.isclose(E, E_fact)):\n",
    "        print(\"Found energy error in row {}\".format(i))\n",
    "        energy_off = True\n",
    "        \n",
    "    params = np.array(row[2**n_qubits : 2**n_qubits + 100])    \n",
    "    circ = TN.construct_circuit(params)\n",
    "    state_built = utils.get_state(circ)\n",
    "#     print(abs(state_built.conj() @ state))\n",
    "#     print(np.linalg.norm(state))\n",
    "#     print(np.linalg.norm(state_built))\n",
    "#     print(\"====\")\n",
    "    product = abs(state_built.conj() @ state)\n",
    "    if not(np.isclose(product, 1)):\n",
    "        print(\"Found state vs params error in row {}\".format(i))\n",
    "        statebuilding_error = True\n",
    "\n",
    "        \n",
    "if (not energy_off and not statebuilding_error):\n",
    "    print(\"All OK\")"
   ]
  },
  {
   "cell_type": "code",
   "execution_count": null,
   "metadata": {},
   "outputs": [],
   "source": [
    "df_with_flip = df_vqe.append(df_flip)\n",
    "# df_with_flip = df_vqe_clean.append(df_flip)\n",
    "len(df_with_flip)"
   ]
  },
  {
   "cell_type": "markdown",
   "metadata": {},
   "source": [
    "#### Angles"
   ]
  },
  {
   "cell_type": "code",
   "execution_count": null,
   "metadata": {},
   "outputs": [],
   "source": [
    "df_rotated = df_with_flip.copy()\n",
    "df_rotated.index = np.arange(len(df_rotated))\n"
   ]
  },
  {
   "cell_type": "code",
   "execution_count": null,
   "metadata": {},
   "outputs": [],
   "source": [
    "### change the params by adding random angles to params\n",
    "\n",
    "for i in range(len(df_rotated)):\n",
    "    angle = 2 * np.pi * np.random.rand()\n",
    "    for n in z_gate_indices:\n",
    "        df_rotated.iloc[i, 2**n_qubits + n] += angle"
   ]
  },
  {
   "cell_type": "code",
   "execution_count": 14,
   "metadata": {},
   "outputs": [],
   "source": [
    "## construct new states based on the params provided (not a good solution really)\n",
    "\n",
    "for i in range(len(df_rotated)):\n",
    "    params = np.array(df_rotated.iloc[i, 2**n_qubits:(2**n_qubits + TN.n_params)])\n",
    "    circ = TN.construct_circuit(params)\n",
    "    state_built = utils.get_state(circ)\n",
    "    h = df_rotated.iloc[i, n_max]\n",
    "    E_built = (state_built.conj() @ (H_0 + h * H_1) @ state_built).real\n",
    "    E = df_rotated.iloc[i, n_max + 1]\n",
    "    if not (np.isclose(E, E_built)):\n",
    "        print('Error')\n",
    "    df_rotated.iloc[i, :2**n_qubits] = state_built\n"
   ]
  },
  {
   "cell_type": "code",
   "execution_count": 15,
   "metadata": {},
   "outputs": [],
   "source": [
    "# i = 150\n",
    "# params = np.array(df_rotated.iloc[i, 2**n_qubits:(2**n_qubits + TN.n_params)])\n",
    "# circ = TN.construct_circuit(params)\n",
    "# state_built = utils.get_state(circ)\n",
    "# E = df_rotated.iloc[i, n_max + 1]\n",
    "# print(E)\n",
    "# h = df_rotated.iloc[i, n_max]\n",
    "# E_built = (state_built.conj() @ (H_0 + h * H_1) @ state_built).real\n",
    "# print(E_built)\n",
    "# state = np.array(df_rotated.iloc[i, :2**n_qubits])\n",
    "\n",
    "\n"
   ]
  },
  {
   "cell_type": "code",
   "execution_count": 16,
   "metadata": {},
   "outputs": [],
   "source": [
    "df_total = df_with_flip.append(df_rotated)\n",
    "df_total.index = np.arange(len(df_total))\n"
   ]
  },
  {
   "cell_type": "code",
   "execution_count": 3,
   "metadata": {},
   "outputs": [
    {
     "ename": "NameError",
     "evalue": "name 'df_total' is not defined",
     "output_type": "error",
     "traceback": [
      "\u001b[0;31m---------------------------------------------------------------------------\u001b[0m",
      "\u001b[0;31mNameError\u001b[0m                                 Traceback (most recent call last)",
      "\u001b[0;32m<ipython-input-3-720b3c73af95>\u001b[0m in \u001b[0;36m<module>\u001b[0;34m\u001b[0m\n\u001b[1;32m      1\u001b[0m \u001b[0;31m#### Save the total database just in case\u001b[0m\u001b[0;34m\u001b[0m\u001b[0;34m\u001b[0m\u001b[0;34m\u001b[0m\u001b[0m\n\u001b[1;32m      2\u001b[0m \u001b[0;34m\u001b[0m\u001b[0m\n\u001b[0;32m----> 3\u001b[0;31m \u001b[0mdf_total\u001b[0m\u001b[0;34m.\u001b[0m\u001b[0mto_csv\u001b[0m\u001b[0;34m(\u001b[0m\u001b[0mpath_or_buf\u001b[0m\u001b[0;34m=\u001b[0m\u001b[0;34m\"df_total_bigger.csv\"\u001b[0m\u001b[0;34m,\u001b[0m \u001b[0mindex\u001b[0m\u001b[0;34m=\u001b[0m\u001b[0;32mFalse\u001b[0m\u001b[0;34m,\u001b[0m \u001b[0mheader\u001b[0m\u001b[0;34m=\u001b[0m\u001b[0;32mNone\u001b[0m\u001b[0;34m)\u001b[0m\u001b[0;34m\u001b[0m\u001b[0;34m\u001b[0m\u001b[0m\n\u001b[0m",
      "\u001b[0;31mNameError\u001b[0m: name 'df_total' is not defined"
     ]
    }
   ],
   "source": [
    "#### Save the total database just in case\n",
    "\n",
    "df_total.to_csv(path_or_buf=\"df_total_bigger.csv\", index=False, header=None)"
   ]
  },
  {
   "cell_type": "code",
   "execution_count": 18,
   "metadata": {},
   "outputs": [
    {
     "data": {
      "text/plain": [
       "5580"
      ]
     },
     "execution_count": 18,
     "metadata": {},
     "output_type": "execute_result"
    }
   ],
   "source": [
    "df = df_total.copy()\n",
    "len(df_total)"
   ]
  },
  {
   "cell_type": "markdown",
   "metadata": {},
   "source": [
    "### Reload the prepared dataset if you don't want to build it"
   ]
  },
  {
   "cell_type": "code",
   "execution_count": 4,
   "metadata": {},
   "outputs": [
    {
     "name": "stdout",
     "output_type": "stream",
     "text": [
      "4000\n"
     ]
    }
   ],
   "source": [
    "### Load if necessary\n",
    "\n",
    "df_total = pd.read_csv(\"df_total_bigger.csv\", header=None)\n",
    "print(len(df_total))\n",
    "df_total = df_total.applymap(lambda x: np.complex(x))\n",
    "\n",
    "df_total[n_max] = df_total[n_max].apply(lambda x: x.real)\n",
    "df_total[n_max+1] = df_total[n_max+1].apply(lambda x: x.real)\n",
    "df_total[n_max+2] = df_total[n_max+2].apply(lambda x: x.real)\n"
   ]
  },
  {
   "cell_type": "code",
   "execution_count": null,
   "metadata": {},
   "outputs": [],
   "source": []
  },
  {
   "cell_type": "markdown",
   "metadata": {},
   "source": [
    "### Split the data into train and test"
   ]
  },
  {
   "cell_type": "code",
   "execution_count": 5,
   "metadata": {},
   "outputs": [],
   "source": [
    "df_shuffled = df_total.sample(frac=1).reset_index(drop=True)\n",
    "train_pos = int(0.8 * len(df_total))\n",
    "df_train = df_shuffled.iloc[:train_pos,:]\n",
    "df_test = df_shuffled.iloc[train_pos:,:]"
   ]
  },
  {
   "cell_type": "markdown",
   "metadata": {},
   "source": [
    "### Constructing objective functions"
   ]
  },
  {
   "cell_type": "code",
   "execution_count": 6,
   "metadata": {},
   "outputs": [],
   "source": [
    "def count_ones(x):\n",
    "    count = 0\n",
    "    x_c = copy(x)\n",
    "    while x_c != 0:\n",
    "        x_c = x_c & (x_c-1)\n",
    "        count += 1\n",
    "    return count\n",
    "\n",
    "\n",
    "# @jit\n",
    "def unitary_prediction(state, U):\n",
    "    \"\"\"Returns the probability that the state is in class II by\n",
    "    transforming the circuit into a unitary map\"\"\"\n",
    "#     if U_supply is None:\n",
    "#         result = execute(NN_circ, unitary_b).result()\n",
    "#         U = result.get_unitary(NN_circ)\n",
    "#     else:\n",
    "#         U = U_supply\n",
    "    res_state = U @ state\n",
    "    \n",
    "    label = [0, 0]\n",
    "    \n",
    "    for i in range(len(res_state)):\n",
    "        qty_ones = count_ones(i)\n",
    "        if qty_ones > n_qubits // 2:\n",
    "            label[1] += abs(res_state[i])**2\n",
    "        elif qty_ones < n_qubits // 2:\n",
    "            label[0] += abs(res_state[i])**2 / 2 \n",
    "\n",
    "    return label[1] / (label[0] + label[1])\n",
    "\n",
    "def build_loss_fun(df, start, batch_size, TN_classifier):\n",
    "    \"\"\"construct the loss function for a batch\"\"\"\n",
    "#     if (finish <= start):\n",
    "#         raise ValueError(\"Specify other rows\")\n",
    "    if batch_size < 1:\n",
    "        raise ValueError(\"Invalid batch size\")\n",
    "    #indices = np.random.choice(len(df), batch_size, replace=False)\n",
    "    #indices = np.arange(start, start + batch_size)\n",
    "    \n",
    "\n",
    "    def f(x):\n",
    "        circ = TN_classifier.construct_circuit(x)\n",
    "        result = execute(circ, unitary_b).result()\n",
    "        U = result.get_unitary(circ)\n",
    "        logloss = 0\n",
    "        for i in range(start, start+batch_size):\n",
    "            state = np.array(df_train.iloc[i][:n_cdata])\n",
    "            y = df_train.iloc[i][n_max+2].real\n",
    "            p = unitary_prediction(state, U)\n",
    "            logloss += -(y * np.log(p) + (1 - y) * np.log(1 - p))\n",
    "            \n",
    "        return logloss / batch_size\n",
    "    return f\n",
    "\n",
    "# @jit\n",
    "def rand_grad(x, f, eps):\n",
    "    dx = np.random.randn(np.shape(x)[0]) * eps\n",
    "    f_plus = f(x + dx)\n",
    "    f_minus = f(x - dx)\n",
    "    return (f_plus - f_minus) / 2 / dx, 0.5 * (f_plus + f_minus)"
   ]
  },
  {
   "cell_type": "code",
   "execution_count": 7,
   "metadata": {},
   "outputs": [
    {
     "data": {
      "text/plain": [
       "4"
      ]
     },
     "execution_count": 7,
     "metadata": {},
     "output_type": "execute_result"
    }
   ],
   "source": [
    "count_ones(71)"
   ]
  },
  {
   "cell_type": "markdown",
   "metadata": {},
   "source": [
    "### Running the machine learning"
   ]
  },
  {
   "cell_type": "code",
   "execution_count": 8,
   "metadata": {},
   "outputs": [
    {
     "data": {
      "text/plain": [
       "3200"
      ]
     },
     "execution_count": 8,
     "metadata": {},
     "output_type": "execute_result"
    }
   ],
   "source": [
    "len(df_train)"
   ]
  },
  {
   "cell_type": "code",
   "execution_count": 23,
   "metadata": {},
   "outputs": [
    {
     "name": "stdout",
     "output_type": "stream",
     "text": [
      "Epoch 0 batch 0\n",
      "loss: 0.6830058247558857\n",
      "Epoch 0 batch 1\n",
      "loss: 0.6423018426370497\n",
      "Epoch 1 batch 0\n",
      "loss: 0.6579256463634271\n",
      "Epoch 1 batch 1\n",
      "loss: 0.6250625693999448\n",
      "Epoch 2 batch 0\n",
      "loss: 0.6060393734811802\n",
      "Epoch 2 batch 1\n",
      "loss: 0.6194685139880189\n",
      "Epoch 3 batch 0\n",
      "loss: 0.6051817897603731\n",
      "Epoch 3 batch 1\n",
      "loss: 0.5785070141434753\n",
      "Epoch 4 batch 0\n",
      "loss: 0.5638172578290552\n",
      "Epoch 4 batch 1\n",
      "loss: 0.5626275715407014\n",
      "Epoch 5 batch 0\n",
      "loss: 0.5548592295208545\n",
      "Epoch 5 batch 1\n",
      "loss: 0.5559801466251628\n",
      "Epoch 6 batch 0\n",
      "loss: 0.5482941212638734\n",
      "Epoch 6 batch 1\n",
      "loss: 0.5392586282490843\n",
      "Epoch 7 batch 0\n",
      "loss: 0.5742099593734049\n",
      "Epoch 7 batch 1\n",
      "loss: 0.5387715810036922\n",
      "Epoch 8 batch 0\n",
      "loss: 0.5434375397875996\n",
      "Epoch 8 batch 1\n",
      "loss: 0.5368603285824706\n",
      "Epoch 9 batch 0\n",
      "loss: 0.5760954191254464\n",
      "Epoch 9 batch 1\n",
      "loss: 0.5274557287847788\n",
      "Epoch 10 batch 0\n",
      "loss: 0.5387804717076128\n",
      "Epoch 10 batch 1\n",
      "loss: 0.5443966543424906\n",
      "Epoch 11 batch 0\n",
      "loss: 0.5326585149325189\n",
      "Epoch 11 batch 1\n",
      "loss: 0.5541620073141511\n",
      "Epoch 12 batch 0\n",
      "loss: 0.5524680882070221\n",
      "Epoch 12 batch 1\n",
      "loss: 0.5281491386067675\n",
      "Epoch 13 batch 0\n",
      "loss: 0.5437385872702278\n",
      "Epoch 13 batch 1\n",
      "loss: 0.5354516510150771\n",
      "Epoch 14 batch 0\n",
      "loss: 0.5398298498341996\n",
      "Epoch 14 batch 1\n",
      "loss: 0.5264131208462248\n",
      "Epoch 20 batch 0\n",
      "loss: 0.5302131193734256\n",
      "Epoch 20 batch 1\n",
      "loss: 0.5162578014694834\n",
      "Epoch 40 batch 0\n",
      "loss: 0.513905679325429\n",
      "Epoch 40 batch 1\n",
      "loss: 0.4935015085250916\n",
      "Epoch 60 batch 0\n",
      "loss: 0.497699408867079\n",
      "Epoch 60 batch 1\n",
      "loss: 0.4905372922854031\n",
      "Epoch 80 batch 0\n",
      "loss: 0.48688571072316017\n",
      "Epoch 80 batch 1\n",
      "loss: 0.4785050671862907\n",
      "Epoch 100 batch 0\n",
      "loss: 0.45728807572450136\n",
      "Epoch 100 batch 1\n",
      "loss: 0.4730530676278449\n",
      "Epoch 120 batch 0\n",
      "loss: 0.4293017680636377\n",
      "Epoch 120 batch 1\n",
      "loss: 0.44135082788009417\n",
      "Epoch 140 batch 0\n",
      "loss: 0.42521846069789615\n",
      "Epoch 140 batch 1\n",
      "loss: 0.43926353556227127\n",
      "Epoch 160 batch 0\n",
      "loss: 0.42333529605108344\n",
      "Epoch 160 batch 1\n",
      "loss: 0.4264009148651863\n",
      "Epoch 180 batch 0\n",
      "loss: 0.419723542880835\n",
      "Epoch 180 batch 1\n",
      "loss: 0.40150806291705765\n",
      "Epoch 200 batch 0\n",
      "loss: 0.3916971487116393\n",
      "Epoch 200 batch 1\n",
      "loss: 0.38827717781719184\n",
      "Epoch 220 batch 0\n",
      "loss: 0.3923269309201811\n",
      "Epoch 220 batch 1\n",
      "loss: 0.37692776418513313\n",
      "Epoch 240 batch 0\n",
      "loss: 0.3763782386161073\n",
      "Epoch 240 batch 1\n",
      "loss: 0.3651957274220641\n",
      "Epoch 260 batch 0\n",
      "loss: 0.3557000588866967\n",
      "Epoch 260 batch 1\n",
      "loss: 0.35979156910581356\n",
      "Epoch 280 batch 0\n",
      "loss: 0.3632432090532235\n",
      "Epoch 280 batch 1\n",
      "loss: 0.3373815963365573\n",
      "CPU times: user 6h 44min 32s, sys: 3h 16min 6s, total: 10h 39s\n",
      "Wall time: 3h 48min 49s\n"
     ]
    }
   ],
   "source": [
    "%%time\n",
    "batch_size = 1600\n",
    "n_epochs = 300\n",
    "\n",
    "losses = []\n",
    "\n",
    "\n",
    "params = np.random.rand(TN_classifier.n_params) - 0.5\n",
    "x = params\n",
    "\n",
    "lr_base = 5\n",
    "\n",
    "decay = 1e-3\n",
    "factor = 1 - decay\n",
    "\n",
    "eps_base = 5e-2\n",
    "\n",
    "v = np.zeros(TN_classifier.n_params) #momentum\n",
    "\n",
    "for epoch in range(n_epochs):\n",
    "    df_train = df_train.sample(frac=1).reset_index(drop=True)\n",
    "    for batch_num in range(len(df_train) // batch_size):\n",
    "        \n",
    "        start = batch_size * batch_num\n",
    "        f = build_loss_fun(df_train, start, batch_size, TN_classifier)\n",
    "        #res = minimize(f, x, options={'maxiter':3}, method=\"L-BFGS-B\")\n",
    "        \n",
    "        eps = eps_base / (1 + batch_num * (epoch + 1))**0.5\n",
    "        lr = lr_base / (1 + batch_num * (epoch + 1))**0.5\n",
    "        \n",
    "        #grad = approx_fprime(x, f, eps)\n",
    "        dx = np.random.randn(np.shape(x)[0]) * eps\n",
    "        f_plus = f(x + dx)\n",
    "        f_minus = f(x - dx)\n",
    "        \n",
    "        grad = (f_plus - f_minus) / 2 / np.linalg.norm(dx)\n",
    "                                \n",
    "        v = 0.9 * v - grad * lr * dx\n",
    "        x = x + v        \n",
    "        \n",
    "        loss = (f_plus + f_minus) / 2\n",
    "        if (epoch % 20 == 0 or epoch < 15):\n",
    "            print('Epoch {0:d} batch {1:d}'.format(epoch, batch_num))\n",
    "            print('loss:', loss)\n",
    "        losses.append(loss)"
   ]
  },
  {
   "cell_type": "raw",
   "metadata": {},
   "source": [
    "#### OpenCL-based data, also somewhat incomplete\n",
    "\n",
    "\n",
    "[-3.70142634e-01,  2.26943934e-01,  5.04180435e-01,  4.95598602e-02,\n",
    "        2.54485094e-01,  7.16179015e-01,  5.16020974e-01, -1.07052339e+00,\n",
    "       -3.49705423e-01, -1.35811133e-01,  1.55054164e-01,  8.88456696e-01,\n",
    "       -1.47539206e+00,  6.74051175e-01, -1.94170553e-01, -7.58538658e-01,\n",
    "        3.13823769e-01,  4.01892236e-01,  2.19250404e-01, -3.07341662e-01,\n",
    "        9.37026733e-01,  1.63367476e-01, -7.46855776e-01, -1.42431389e-01,\n",
    "        4.00884442e-01, -5.89674951e-01,  1.74509797e-01,  3.04261321e-02,\n",
    "       -1.16486397e+00, -9.76785406e-02,  6.71143980e-02, -6.00228343e-01,\n",
    "       -1.18547527e-01,  6.40402271e-01, -2.02564877e-01, -1.10202152e-01,\n",
    "       -5.42475336e-01, -1.45975122e-01, -1.47740983e+00, -3.76318336e-01,\n",
    "        3.89242908e-01, -8.28036092e-01, -1.10181957e+00,  5.42499517e-01,\n",
    "       -7.41573078e-01,  4.32787047e-02,  2.08136061e-01, -4.63065263e-01,\n",
    "        2.89115184e-01,  6.92774468e-01,  9.96200416e-01,  2.26657546e-01,\n",
    "        1.30211513e-03, -3.27328564e-01, -1.89984361e-02,  2.02271568e-02,\n",
    "        7.54979772e-01,  7.87378157e-01, -8.41919404e-01,  3.74166374e-01,\n",
    "       -2.39104441e-01, -1.23387274e+00,  4.22627531e-01,  3.36164387e-01,\n",
    "       -9.60087934e-01, -1.95125883e-01, -8.86167600e-01, -1.59953824e-01,\n",
    "       -1.26432284e-01,  4.26719598e-01,  1.12165573e-03, -1.08316359e-01,\n",
    "        1.13681516e-01, -2.93951861e-01,  1.07838433e-01, -1.05121319e+00,\n",
    "        3.28423297e-01,  3.34703013e-02, -4.87255605e-01, -4.83038024e-01,\n",
    "        5.09947096e-01, -6.57579191e-01,  3.83354439e-01, -2.09992328e-01,\n",
    "       -5.41397405e-01,  2.66241766e-01,  1.93273688e-01,  2.14842700e-01,\n",
    "       -5.28314968e-01, -7.53810925e-01,  4.75566014e-01, -5.58141120e-01,\n",
    "        2.03855434e-01,  4.62399783e-01,  3.93293780e-01, -5.66325162e-01,\n",
    "        2.04030241e-01, -3.72401281e-01, -1.26996344e-01, -7.36711759e-01,\n",
    "        5.37159823e-01,  4.30266899e-01,  5.77298729e-01, -5.95653431e-01,\n",
    "        2.77082002e-02,  8.31271303e-01,  6.88991302e-01,  3.69518094e-01,\n",
    "       -2.74009600e-01, -5.60060291e-01,  7.14966840e-01, -1.28343433e-01,\n",
    "        1.17436541e+00,  6.72342329e-02,  3.63164602e-01,  2.04430642e-01,\n",
    "        2.11846709e-01,  3.95187293e-01,  6.14718539e-01, -5.51568165e-01,\n",
    "        1.12045721e+00,  3.56212082e-01, -4.82825767e-01, -9.59795887e-01,\n",
    "        5.98846858e-01, -2.48936525e-01,  3.72761368e-01,  5.36687781e-03,\n",
    "        1.25524397e+00,  5.70503337e-01,  4.48818108e-01,  6.66646647e-01,\n",
    "       -1.86730000e-01, -8.78684911e-02, -5.34504569e-02, -4.23799335e-01,\n",
    "       -4.11177535e-01,  5.51297587e-01,  8.17591561e-01,  7.14535150e-01,\n",
    "        4.76771140e-01,  1.02714131e+00,  4.49742216e-01, -5.77089306e-01,\n",
    "        3.09484986e-02, -3.64630223e-01,  2.63351055e-01,  5.25697314e-01,\n",
    "        1.08533515e-02, -7.71090130e-01]"
   ]
  },
  {
   "cell_type": "raw",
   "metadata": {},
   "source": [
    "#### Symmetry and 6 layers\n",
    "\n",
    "[-1.02335802e+00,  2.31935568e-01,  2.17377158e-01, -6.81614619e-02,\n",
    "        4.49976668e-01, -1.25318105e+00, -1.57964488e-03, -2.27268290e-01,\n",
    "        1.32409502e+00,  2.14893641e-01, -5.22625057e-01, -9.11044073e-01,\n",
    "       -5.48203198e-01,  1.25764768e+00,  1.00296749e-01,  3.89367060e-01,\n",
    "        7.40472455e-01,  1.12086803e+00, -1.84506560e+00, -7.33417250e-02,\n",
    "        1.14967871e+00,  3.79769082e-01, -9.36844213e-01,  1.40353063e+00,\n",
    "       -2.19027977e-01, -6.96792624e-01,  6.93078162e-01,  9.71494906e-01,\n",
    "        1.19778934e+00,  3.09460149e-01,  4.93264160e-01,  6.25002429e-02,\n",
    "       -4.37182014e-01, -2.32435502e-01,  1.63023837e+00,  4.28949364e-01,\n",
    "        8.12777173e-01, -5.31482587e-01,  1.04330143e-01, -1.25729577e-02,\n",
    "       -7.14033363e-02, -1.37354019e-01, -2.05588494e-02, -3.79656557e-01,\n",
    "        7.73474217e-01,  1.19031591e+00,  7.70088541e-01, -4.10207502e-02,\n",
    "       -1.36172783e+00,  5.57214624e-01, -4.39333748e-01, -1.10700613e+00,\n",
    "       -1.33029019e+00,  4.65223482e-01, -1.01198649e+00,  1.45909694e-02,\n",
    "        3.15443049e-01,  1.63117584e-01, -3.15171773e-02,  4.89690524e-01,\n",
    "       -1.73558305e+00, -7.74783388e-01, -2.63520690e-02, -4.54009561e-01,\n",
    "       -9.76754999e-01, -1.27976648e+00,  9.20149649e-01,  8.60648979e-01,\n",
    "       -4.35370428e-01,  1.55543672e-01,  1.34208007e+00, -2.09292972e-01,\n",
    "        1.18392073e-01,  3.95509335e-01,  3.61183608e-01,  5.97618039e-01,\n",
    "        2.86537880e-02, -1.98185212e-02,  1.21660435e+00, -7.47554113e-01,\n",
    "       -6.26976819e-01, -6.41667560e-01, -5.96422632e-01,  6.26299895e-01,\n",
    "       -4.41809815e-01, -5.11445778e-02,  5.62485341e-01, -1.44338678e-01,\n",
    "       -1.36767500e-01, -2.29000824e-01, -7.89304240e-01, -1.19940778e+00,\n",
    "       -5.82305024e-02,  2.52405506e-01,  1.13629954e-01, -6.10055374e-01,\n",
    "       -2.28418342e-02,  7.55102072e-01, -8.35228199e-01,  3.87976591e-01,\n",
    "        1.24700929e-01, -7.81910001e-02,  1.29876376e+00, -3.20282284e-01,\n",
    "        2.96956522e-01,  1.06814585e+00, -1.09121499e+00, -1.63690087e+00,\n",
    "       -1.19381605e+00,  1.91203921e+00, -3.80589902e-01,  1.42906317e+00,\n",
    "        5.07096986e-02, -7.55216186e-02, -8.90204040e-01, -5.81672946e-01,\n",
    "       -6.32359503e-01,  1.16466396e+00,  4.24127799e-01,  2.25584872e-02,\n",
    "       -6.09641241e-01,  6.36438887e-01,  8.55999266e-02, -4.01963350e-01,\n",
    "       -9.11083997e-01, -9.12579329e-01, -8.32870462e-01,  2.69213718e-01,\n",
    "        4.18729734e-01,  1.09870101e-01, -6.18246778e-02, -8.34339282e-01,\n",
    "       -1.10284888e+00,  6.62339190e-02, -9.21501073e-01,  3.32683230e-01,\n",
    "        2.14645379e-01,  2.97981584e-01, -1.17363417e+00,  7.59263883e-02,\n",
    "       -2.26173526e-01,  3.09249814e-01, -3.86584187e-01, -1.73685261e+00,\n",
    "       -9.19339652e-01, -9.31940038e-01, -8.34326261e-01, -1.21979081e+00,\n",
    "        8.39923204e-02, -3.22979066e-01]"
   ]
  },
  {
   "cell_type": "raw",
   "metadata": {},
   "source": [
    "#### utilized symmetry\n",
    "\n",
    "x = [ 2.80611036,  1.48628261,  2.76249388,  2.86555346, -0.05675448,\n",
    "        3.50637605,  3.59144114,  1.21287822,  3.20680993,  0.33326643,\n",
    "        1.71497328,  2.94955067,  0.89657318,  7.79669661,  3.97808069,\n",
    "        4.42322971,  0.88690111,  3.6976522 ,  6.49030434,  3.14313772,\n",
    "        2.46557131,  3.24940156,  0.55981771,  0.6470831 ,  2.24722696,\n",
    "        5.0552363 ,  3.59400541,  1.35148281, -1.07360022,  3.07076878,\n",
    "        0.96921225,  6.28106223,  5.65671785,  5.60105907,  1.8460286 ,\n",
    "        3.95629621,  3.54327926, -1.09720043,  5.42829729,  0.56842825,\n",
    "        0.98953868,  7.34724389,  1.71098814,  3.27818562,  6.08196091,\n",
    "        1.14905031,  3.85420401,  5.2705856 ,  1.68349218,  4.14525286,\n",
    "        3.50103728,  5.03603712,  5.17451217,  1.8190294 ,  3.35897068,\n",
    "        4.45736183,  0.50687702,  0.61910043,  5.06912617,  1.83995488,\n",
    "        6.52597821,  5.87269635,  0.91340237,  2.25554717,  4.86080917,\n",
    "        2.940126  ,  6.74951365,  3.3248337 ,  5.39535693,  2.21239941,\n",
    "        5.64748113,  5.0477891 ,  6.1775796 ,  4.97131611,  3.48834929,\n",
    "        3.99699156,  4.81774313,  4.89021088,  4.38305356,  3.1147566 ,\n",
    "        3.58444252,  4.70821362,  0.60345608,  4.87934463,  2.34431391,\n",
    "        5.18450549,  4.79884723,  5.73534887,  1.63089387,  2.81822472,\n",
    "        3.80729966,  4.78021636,  3.88062153,  2.15653694,  1.47695993,\n",
    "        5.31309969,  2.73082999,  1.23004119,  3.27815057,  0.80806556]"
   ]
  },
  {
   "cell_type": "code",
   "execution_count": 9,
   "metadata": {},
   "outputs": [],
   "source": [
    "x = [-1.02335802e+00,  2.31935568e-01,  2.17377158e-01, -6.81614619e-02,\n",
    "        4.49976668e-01, -1.25318105e+00, -1.57964488e-03, -2.27268290e-01,\n",
    "        1.32409502e+00,  2.14893641e-01, -5.22625057e-01, -9.11044073e-01,\n",
    "       -5.48203198e-01,  1.25764768e+00,  1.00296749e-01,  3.89367060e-01,\n",
    "        7.40472455e-01,  1.12086803e+00, -1.84506560e+00, -7.33417250e-02,\n",
    "        1.14967871e+00,  3.79769082e-01, -9.36844213e-01,  1.40353063e+00,\n",
    "       -2.19027977e-01, -6.96792624e-01,  6.93078162e-01,  9.71494906e-01,\n",
    "        1.19778934e+00,  3.09460149e-01,  4.93264160e-01,  6.25002429e-02,\n",
    "       -4.37182014e-01, -2.32435502e-01,  1.63023837e+00,  4.28949364e-01,\n",
    "        8.12777173e-01, -5.31482587e-01,  1.04330143e-01, -1.25729577e-02,\n",
    "       -7.14033363e-02, -1.37354019e-01, -2.05588494e-02, -3.79656557e-01,\n",
    "        7.73474217e-01,  1.19031591e+00,  7.70088541e-01, -4.10207502e-02,\n",
    "       -1.36172783e+00,  5.57214624e-01, -4.39333748e-01, -1.10700613e+00,\n",
    "       -1.33029019e+00,  4.65223482e-01, -1.01198649e+00,  1.45909694e-02,\n",
    "        3.15443049e-01,  1.63117584e-01, -3.15171773e-02,  4.89690524e-01,\n",
    "       -1.73558305e+00, -7.74783388e-01, -2.63520690e-02, -4.54009561e-01,\n",
    "       -9.76754999e-01, -1.27976648e+00,  9.20149649e-01,  8.60648979e-01,\n",
    "       -4.35370428e-01,  1.55543672e-01,  1.34208007e+00, -2.09292972e-01,\n",
    "        1.18392073e-01,  3.95509335e-01,  3.61183608e-01,  5.97618039e-01,\n",
    "        2.86537880e-02, -1.98185212e-02,  1.21660435e+00, -7.47554113e-01,\n",
    "       -6.26976819e-01, -6.41667560e-01, -5.96422632e-01,  6.26299895e-01,\n",
    "       -4.41809815e-01, -5.11445778e-02,  5.62485341e-01, -1.44338678e-01,\n",
    "       -1.36767500e-01, -2.29000824e-01, -7.89304240e-01, -1.19940778e+00,\n",
    "       -5.82305024e-02,  2.52405506e-01,  1.13629954e-01, -6.10055374e-01,\n",
    "       -2.28418342e-02,  7.55102072e-01, -8.35228199e-01,  3.87976591e-01,\n",
    "        1.24700929e-01, -7.81910001e-02,  1.29876376e+00, -3.20282284e-01,\n",
    "        2.96956522e-01,  1.06814585e+00, -1.09121499e+00, -1.63690087e+00,\n",
    "       -1.19381605e+00,  1.91203921e+00, -3.80589902e-01,  1.42906317e+00,\n",
    "        5.07096986e-02, -7.55216186e-02, -8.90204040e-01, -5.81672946e-01,\n",
    "       -6.32359503e-01,  1.16466396e+00,  4.24127799e-01,  2.25584872e-02,\n",
    "       -6.09641241e-01,  6.36438887e-01,  8.55999266e-02, -4.01963350e-01,\n",
    "       -9.11083997e-01, -9.12579329e-01, -8.32870462e-01,  2.69213718e-01,\n",
    "        4.18729734e-01,  1.09870101e-01, -6.18246778e-02, -8.34339282e-01,\n",
    "       -1.10284888e+00,  6.62339190e-02, -9.21501073e-01,  3.32683230e-01,\n",
    "        2.14645379e-01,  2.97981584e-01, -1.17363417e+00,  7.59263883e-02,\n",
    "       -2.26173526e-01,  3.09249814e-01, -3.86584187e-01, -1.73685261e+00,\n",
    "       -9.19339652e-01, -9.31940038e-01, -8.34326261e-01, -1.21979081e+00,\n",
    "        8.39923204e-02, -3.22979066e-01]"
   ]
  },
  {
   "cell_type": "markdown",
   "metadata": {},
   "source": [
    "### Checking the performance on the test set"
   ]
  },
  {
   "cell_type": "code",
   "execution_count": 10,
   "metadata": {},
   "outputs": [
    {
     "name": "stderr",
     "output_type": "stream",
     "text": [
      "/home/alexey/quantumenv/lib/python3.6/site-packages/marshmallow/schema.py:364: ChangedInMarshmallow3Warning: strict=False is not recommended. In marshmallow 3.0, schemas will always be strict. See https://marshmallow.readthedocs.io/en/latest/upgrading.html#schemas-are-always-strict\n",
      "  ChangedInMarshmallow3Warning\n",
      "/home/alexey/quantumenv/lib/python3.6/site-packages/marshmallow/schema.py:364: ChangedInMarshmallow3Warning: strict=False is not recommended. In marshmallow 3.0, schemas will always be strict. See https://marshmallow.readthedocs.io/en/latest/upgrading.html#schemas-are-always-strict\n",
      "  ChangedInMarshmallow3Warning\n"
     ]
    }
   ],
   "source": [
    "%matplotlib inline\n",
    "\n",
    "NN_circ = TN_classifier.construct_circuit(x)\n",
    "preds = []\n",
    "trues = np.array(df_test[n_max + 2])\n",
    "result = execute(NN_circ, unitary_b).result()\n",
    "U = result.get_unitary(NN_circ)\n",
    "for i in range(len(df_test)):\n",
    "    state = df_test.iloc[i][:n_cdata]\n",
    "    preds.append(unitary_prediction(state, U))\n",
    "    \n",
    "\n",
    "# plt.rcParams.update({'font.size': 14})\n",
    "\n",
    "\n",
    "# plt.figure()\n",
    "# fields = np.array(df_test[n_max])\n",
    "# plt.scatter(fields, preds)\n",
    "\n",
    "# plt.xlabel(r'$J_z$')\n",
    "# plt.ylabel('Prediction of label II')\n",
    "# plt.grid()\n",
    "# plt.ylim([0, 1])\n",
    "# plt.xlim([0, 2])\n",
    "# plt.plot([1, 1], [0, 1], 'r')\n",
    "# plt.text(0.35, 0.63, 'I', fontsize=24, fontfamily='serif')\n",
    "# plt.text(1.6, 0.63, 'II', fontsize=24, fontfamily='serif')\n",
    "# plt.plot([0, 2], [0.5, 0.5], 'r--')\n",
    "# plt.show()"
   ]
  },
  {
   "cell_type": "code",
   "execution_count": 15,
   "metadata": {},
   "outputs": [
    {
     "data": {
      "image/png": "[encoded data removed]",
      "text/plain": [
       "<Figure size 648x432 with 1 Axes>"
      ]
     },
     "metadata": {
      "needs_background": "light"
     },
     "output_type": "display_data"
    }
   ],
   "source": [
    "# %matplotlib inline\n",
    "# plt.rcParams.update({'font.size': 14})\n",
    "# plt.figure()\n",
    "fields = np.array(df_test[n_max])\n",
    "plt.scatter(fields, preds)\n",
    "\n",
    "plt.xlabel(r'$J_z$')\n",
    "plt.ylabel('Prediction of label II')\n",
    "plt.grid()\n",
    "plt.ylim([0, 1])\n",
    "plt.xlim([0, 2])\n",
    "plt.plot([1, 1], [0, 1], 'r')\n",
    "plt.text(0.35, 0.63, 'I', fontsize=24, fontfamily='serif')\n",
    "plt.text(1.6, 0.63, 'II', fontsize=24, fontfamily='serif')\n",
    "plt.plot([0, 2], [0.5, 0.5], 'r--')\n",
    "plt.show()"
   ]
  },
  {
   "cell_type": "code",
   "execution_count": 16,
   "metadata": {},
   "outputs": [
    {
     "name": "stdout",
     "output_type": "stream",
     "text": [
      "0.94875\n"
     ]
    }
   ],
   "source": [
    "correct = 0\n",
    "for i, p in enumerate(preds):\n",
    "    if abs(trues[i] - p) < 0.5:\n",
    "        correct += 1\n",
    "print(correct / len(df_test))"
   ]
  },
  {
   "cell_type": "code",
   "execution_count": null,
   "metadata": {},
   "outputs": [],
   "source": []
  },
  {
   "cell_type": "code",
   "execution_count": null,
   "metadata": {},
   "outputs": [],
   "source": []
  }
 ],
 "metadata": {
  "kernelspec": {
   "display_name": "Python3 (quantumenv)",
   "language": "python",
   "name": "quantumenv"
  },
  "language_info": {
   "codemirror_mode": {
    "name": "ipython",
    "version": 3
   },
   "file_extension": ".py",
   "mimetype": "text/x-python",
   "name": "python",
   "nbconvert_exporter": "python",
   "pygments_lexer": "ipython3",
   "version": "3.6.9"
  }
 },
 "nbformat": 4,
 "nbformat_minor": 2
}
